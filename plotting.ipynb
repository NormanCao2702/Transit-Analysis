{
 "cells": [
  {
   "cell_type": "code",
   "execution_count": null,
   "id": "593a6aad",
   "metadata": {},
   "outputs": [],
   "source": [
    "import seaborn as sns\n",
    "import matplotlib.pyplot as plt"
   ]
  },
  {
   "cell_type": "code",
   "execution_count": null,
   "id": "258497aa",
   "metadata": {},
   "outputs": [],
   "source": [
    "def cluster_map(df):\n",
    "    # Define a mapping from cluster number to descriptive name\n",
    "    cluster_names = {\n",
    "        0: 'Evening',\n",
    "        1: 'Early Morning',\n",
    "        2: 'Midday',\n",
    "        3: 'Late Night / Overnight',\n",
    "        4: 'Afternoon'  # Adjust based on your actual cluster characteristics\n",
    "    }\n",
    "\n",
    "    # Apply the mapping to create a new column with descriptive labels\n",
    "    df['time_of_day'] = df['cluster'].map(cluster_names)"
   ]
  },
  {
   "cell_type": "code",
   "execution_count": null,
   "id": "7b8329d1",
   "metadata": {},
   "outputs": [],
   "source": []
  },
  {
   "cell_type": "code",
   "execution_count": null,
   "id": "9166dd03",
   "metadata": {},
   "outputs": [],
   "source": []
  },
  {
   "cell_type": "code",
   "execution_count": null,
   "id": "ec1fcd8e",
   "metadata": {},
   "outputs": [],
   "source": []
  },
  {
   "cell_type": "code",
   "execution_count": null,
   "id": "feac9234",
   "metadata": {},
   "outputs": [],
   "source": []
  },
  {
   "cell_type": "code",
   "execution_count": null,
   "id": "970574ef",
   "metadata": {},
   "outputs": [],
   "source": []
  },
  {
   "cell_type": "code",
   "execution_count": null,
   "id": "fd6c095b",
   "metadata": {},
   "outputs": [],
   "source": [
    "def calculate_time_diff_and_period(df):\n",
    "    \"\"\"\n",
    "    Calculates time differences between consecutive buses and assigns period based on arrival time.\n",
    "    This function is a placeholder to illustrate where you'd calculate 'Time Diff' and 'Period'.\n",
    "    \"\"\"\n",
    "    df['timedelta'] = df['arrival_time'].apply(convert_time)\n",
    "\n",
    "    # Calculate the time difference in minutes\n",
    "    df['time_diff'] = df['timedelta'].diff().dt.total_seconds() / 60\n",
    "    df['time_diff'].fillna(0, inplace=True) \n",
    "    \n",
    "    # Apply 'classify_period' to each row for the 'period' column\n",
    "#     df['period'] = df['timedelta'].apply(classify_period)\n",
    "    \n",
    "    # Remove the 'timedelta' column it's no longer needed\n",
    "    df.drop('timedelta', axis=1, inplace=True)\n",
    "    \n",
    "    return df"
   ]
  },
  {
   "cell_type": "code",
   "execution_count": null,
   "id": "d501f958",
   "metadata": {},
   "outputs": [],
   "source": [
    "def main():\n",
    "        \n",
    "    # Filter out the rows where time_diff is 0 before grouping\n",
    "#     non_zero_time_diff_sat = trips_to_SFU_arrival_time_sat[trips_to_SFU_arrival_time_sat['time_diff'] != 0]\n",
    "#     period_avg_sat = non_zero_time_diff_sat.groupby('period')['time_diff'].mean().reset_index()\n",
    "#     period_avg_sat['day'] = 'Saturday'\n",
    "#     print(period_avg_sat)\n",
    "        # Filter out the rows where time_diff is 0 before grouping\n",
    "#     non_zero_time_diff_weekday = trips_to_SFU_arrival_time_weekday[trips_to_SFU_arrival_time_weekday['time_diff'] != 0]\n",
    "#     period_avg_weekday = non_zero_time_diff_weekday.groupby('period')['time_diff'].mean().reset_index()\n",
    "#     period_avg_weekday['day'] = 'Weekday'\n",
    "#     print(period_avg_weekday)\n",
    "        # Filter out the rows where time_diff is 0 before grouping\n",
    "#     non_zero_time_diff_sun = trips_to_SFU_arrival_time_sun[trips_to_SFU_arrival_time_sun['time_diff'] != 0]\n",
    "#     period_avg_sun = non_zero_time_diff_sun.groupby('period')['time_diff'].mean().reset_index()\n",
    "#     period_avg_sun['day'] = 'Sunday'\n",
    "#     print(period_avg_sun)\n",
    "    \n",
    "    \n",
    "#     period_order = ['Morning', 'Afternoon', 'Evening', 'Night']\n",
    "#     day_order = ['Weekday', 'Saturday', 'Sunday']\n",
    "# #     day_order = ['Weekday']\n",
    "    \n",
    "#     # Combine all DataFrames into one\n",
    "#     df_all_days = pd.concat([period_avg_weekday, period_avg_sat, period_avg_sun])\n",
    "    \n",
    "#     # Convert the 'period' column to a categorical type with the specified order\n",
    "#     df_all_days['period'] = pd.Categorical(df_all_days['period'], categories=period_order, ordered=True)\n",
    "    \n",
    "#     # Pivot the combined DataFrame to create a 2D data structure for the heatmap\n",
    "#     df_pivot = df_all_days.pivot(index='period', columns='day', values='time_diff')[day_order]\n",
    "\n",
    "#     # Set up the matplotlib figure\n",
    "#     plt.figure(figsize=(10, 7))\n",
    "\n",
    "#     # Draw the heatmap\n",
    "#     ax = sns.heatmap(df_pivot, annot=True, fmt=\".2f\", linewidths=.5, cmap='coolwarm')\n",
    "\n",
    "#     # Set the aspect of the plot to be equal, for square cells\n",
    "#     ax.set_aspect(\"equal\")\n",
    "\n",
    "#     # Rotate the labels on y-axis\n",
    "#     plt.yticks(rotation=0)\n",
    "\n",
    "#     plt.title('Average Time Difference Heatmap by Period and Day for Bus R5 get to SFU Bay 2')\n",
    "#     # Save the plot to a file\n",
    "#     plt.savefig('Bus145heatmap.png', dpi=300, bbox_inches='tight')\n",
    "#     plt.show()"
   ]
  }
 ],
 "metadata": {
  "kernelspec": {
   "display_name": "Python 3 (ipykernel)",
   "language": "python",
   "name": "python3"
  },
  "language_info": {
   "codemirror_mode": {
    "name": "ipython",
    "version": 3
   },
   "file_extension": ".py",
   "mimetype": "text/x-python",
   "name": "python",
   "nbconvert_exporter": "python",
   "pygments_lexer": "ipython3",
   "version": "3.11.5"
  }
 },
 "nbformat": 4,
 "nbformat_minor": 5
}
