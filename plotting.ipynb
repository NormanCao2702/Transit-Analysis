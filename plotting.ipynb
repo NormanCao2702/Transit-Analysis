{
 "cells": [
  {
   "cell_type": "code",
   "execution_count": 1,
   "id": "2a312a1a",
   "metadata": {},
   "outputs": [],
   "source": [
    "import seaborn as sns\n",
    "import matplotlib.pyplot as plt\n",
    "import pandas as pd"
   ]
  },
  {
   "cell_type": "code",
   "execution_count": 2,
   "id": "df8d7fac",
   "metadata": {},
   "outputs": [],
   "source": [
    "def cluster_map_145_weekday(df):\n",
    "    cluster_names = {\n",
    "        0: 'Morning',\n",
    "        1: 'Late Afternoon',\n",
    "        2: 'Night',\n",
    "        3: 'Midday',\n",
    "        4: 'Overnight'  \n",
    "    }\n",
    "    # Apply the mapping to create a new column with descriptive labels\n",
    "    df['period'] = df['cluster'].map(cluster_names)"
   ]
  },
  {
   "cell_type": "code",
   "execution_count": 3,
   "id": "01147b3c",
   "metadata": {},
   "outputs": [],
   "source": [
    "def cluster_map_145_sat(df):\n",
    "    cluster_names = {\n",
    "        0: 'Midday',\n",
    "        1: 'Night',\n",
    "        2: 'Morning',\n",
    "        3: 'Late Afternoon',\n",
    "        4: 'Overnight'  \n",
    "    }\n",
    "    df['period'] = df['cluster'].map(cluster_names)"
   ]
  },
  {
   "cell_type": "code",
   "execution_count": 4,
   "id": "4522a007",
   "metadata": {},
   "outputs": [],
   "source": [
    "def cluster_map_145_sun(df):\n",
    "    cluster_names = {\n",
    "        0: 'Night',\n",
    "        1: 'Midday',\n",
    "        2: 'Morning',\n",
    "        3: 'Late Afternoon',\n",
    "        4: 'Overnight'  \n",
    "    }\n",
    "\n",
    "    df['period'] = df['cluster'].map(cluster_names)"
   ]
  },
  {
   "cell_type": "code",
   "execution_count": 5,
   "id": "52dd046e",
   "metadata": {},
   "outputs": [],
   "source": [
    "def cluster_map_144_weekday(df):\n",
    "    cluster_names = {\n",
    "        0: 'Midday',\n",
    "        1: 'Night',\n",
    "        2: 'Morning',\n",
    "        3: 'Late Afternoon',\n",
    "        4: 'Overnight'  \n",
    "    }\n",
    "    # Apply the mapping to create a new column with descriptive labels\n",
    "    df['period'] = df['cluster'].map(cluster_names)"
   ]
  },
  {
   "cell_type": "code",
   "execution_count": 6,
   "id": "ed856fd0",
   "metadata": {},
   "outputs": [],
   "source": [
    "def cluster_map_144_sat(df):\n",
    "    cluster_names = {\n",
    "        0: 'Midday',\n",
    "        1: 'Night',\n",
    "        2: 'Morning',\n",
    "        3: 'Late Afternoon',\n",
    "        4: 'Overnight'  \n",
    "    }\n",
    "    # Apply the mapping to create a new column with descriptive labels\n",
    "    df['period'] = df['cluster'].map(cluster_names)"
   ]
  },
  {
   "cell_type": "code",
   "execution_count": 7,
   "id": "24a461e2",
   "metadata": {},
   "outputs": [],
   "source": [
    "def cluster_map_144_sun(df):\n",
    "    cluster_names = {\n",
    "        0: 'Midday',\n",
    "        1: 'Night',\n",
    "        2: 'Morning',\n",
    "        3: 'Overnight',\n",
    "        4: 'Late Afternoon'  \n",
    "    }\n",
    "    # Apply the mapping to create a new column with descriptive labels\n",
    "    df['period'] = df['cluster'].map(cluster_names)"
   ]
  },
  {
   "cell_type": "code",
   "execution_count": 8,
   "id": "099cff22",
   "metadata": {},
   "outputs": [],
   "source": [
    "def cluster_map_143_weekday(df):\n",
    "    cluster_names = {\n",
    "        0: 'Late Afternoon',\n",
    "        1: 'Morning',\n",
    "        2: 'Midday',\n",
    "    }\n",
    "    # Apply the mapping to create a new column with descriptive labels\n",
    "    df['period'] = df['cluster'].map(cluster_names)"
   ]
  },
  {
   "cell_type": "code",
   "execution_count": 9,
   "id": "b4c5d7ab",
   "metadata": {},
   "outputs": [],
   "source": [
    "def cluster_map_R5_weekday(df):\n",
    "    cluster_names = {\n",
    "        0: 'Morning',\n",
    "        1: 'Night',\n",
    "        2: 'Midday',\n",
    "        3: 'Overnight',\n",
    "        4: 'Late Afternoon'  \n",
    "    }\n",
    "    # Apply the mapping to create a new column with descriptive labels\n",
    "    df['period'] = df['cluster'].map(cluster_names)"
   ]
  },
  {
   "cell_type": "code",
   "execution_count": 10,
   "id": "5b43504b",
   "metadata": {},
   "outputs": [],
   "source": [
    "def cluster_map_R5_sat(df):\n",
    "    cluster_names = {\n",
    "        0: 'Midday',\n",
    "        1: 'Morning',\n",
    "        2: 'Night',\n",
    "        3: 'Overnight',\n",
    "        4: 'Late Afternoon'  \n",
    "    }\n",
    "    # Apply the mapping to create a new column with descriptive labels\n",
    "    df['period'] = df['cluster'].map(cluster_names)"
   ]
  },
  {
   "cell_type": "code",
   "execution_count": 11,
   "id": "71c44f5e",
   "metadata": {},
   "outputs": [],
   "source": [
    "def cluster_map_R5_sun(df):\n",
    "    cluster_names = {\n",
    "        0: 'Midday',\n",
    "        1: 'Night',\n",
    "        2: 'Overnight',\n",
    "        3: 'Late Afternoon',\n",
    "        4: 'Morning'  \n",
    "    }\n",
    "    # Apply the mapping to create a new column with descriptive labels\n",
    "    df['period'] = df['cluster'].map(cluster_names)"
   ]
  },
  {
   "cell_type": "code",
   "execution_count": 12,
   "id": "782bc366",
   "metadata": {},
   "outputs": [],
   "source": [
    "def main():  \n",
    "    # Filter out the rows where time_diff is 0 before grouping\n",
    "#     weekday = pd.read_csv('bus_145_weekday_clustering.csv',index_col=0)\n",
    "#     sat = pd.read_csv('bus_145_saturday_clustering.csv',index_col=0)\n",
    "#     sun = pd.read_csv('bus_145_sunday_clustering.csv',index_col=0)\n",
    "\n",
    "#     weekday = pd.read_csv('bus_144_weekday_clustering.csv',index_col=0)\n",
    "#     sat = pd.read_csv('bus_144_saturday_clustering.csv',index_col=0)\n",
    "#     sun = pd.read_csv('bus_144_sunday_clustering.csv',index_col=0)\n",
    "\n",
    "#     weekday = pd.read_csv('bus_143_weekday_clustering.csv',index_col=0)\n",
    "    \n",
    "    weekday = pd.read_csv('bus_R5_weekday_clustering.csv',index_col=0)\n",
    "    sat = pd.read_csv('bus_R5_saturday_clustering.csv',index_col=0)\n",
    "    sun = pd.read_csv('bus_R5_sunday_clustering.csv',index_col=0)\n",
    "\n",
    "#     cluster_map_145_weekday(weekday)\n",
    "#     cluster_map_145_sat(sat)\n",
    "#     cluster_map_145_sun(sun)\n",
    "\n",
    "#     cluster_map_144_weekday(weekday)\n",
    "#     cluster_map_144_sat(sat)\n",
    "#     cluster_map_144_sun(sun)\n",
    "\n",
    "#     cluster_map_143_weekday(weekday)\n",
    "\n",
    "    cluster_map_R5_weekday(weekday)\n",
    "    cluster_map_R5_sat(sat)\n",
    "    cluster_map_R5_sun(sun)\n",
    "    \n",
    "    non_zero_time_diff_sat = sat[sat['time_diff'] != 0]\n",
    "    period_avg_sat = non_zero_time_diff_sat.groupby('period')['time_diff'].mean().reset_index()\n",
    "    period_avg_sat['day'] = 'Saturday'\n",
    "#     print(period_avg_sat)\n",
    "    \n",
    "    non_zero_time_diff_weekday = weekday[weekday['time_diff'] != 0]\n",
    "    period_avg_weekday = non_zero_time_diff_weekday.groupby('period')['time_diff'].mean().reset_index()\n",
    "    period_avg_weekday['day'] = 'Weekday'\n",
    "#     print(period_avg_weekday)\n",
    "    \n",
    "    non_zero_time_diff_sun = sun[sun['time_diff'] != 0]\n",
    "    period_avg_sun = non_zero_time_diff_sun.groupby('period')['time_diff'].mean().reset_index()\n",
    "    period_avg_sun['day'] = 'Sunday'\n",
    "#     print(period_avg_sun)\n",
    "    \n",
    "    period_order = ['Morning', 'Midday', 'Late Afternoon', 'Night','Overnight']\n",
    "#     period_order = ['Morning', 'Midday', 'Late Afternoon']\n",
    "    day_order = ['Weekday', 'Saturday', 'Sunday']\n",
    "#     day_order = ['Weekday']\n",
    "    \n",
    "    # Combine all DataFrames into one\n",
    "    df_all_days = pd.concat([period_avg_weekday, period_avg_sat, period_avg_sun])\n",
    "#     df_all_days = pd.concat([period_avg_weekday])\n",
    "    \n",
    "    # Convert the 'period' column to a categorical type with the specified order\n",
    "    df_all_days['period'] = pd.Categorical(df_all_days['period'], categories=period_order, ordered=True)\n",
    "    \n",
    "    # Pivot the combined DataFrame to create a 2D data structure for the heatmap\n",
    "    df_pivot = df_all_days.pivot(index='period', columns='day', values='time_diff')[day_order]\n",
    "\n",
    "    # Set up the matplotlib figure\n",
    "    plt.figure(figsize=(10, 7))\n",
    "\n",
    "    # Draw the heatmap\n",
    "    ax = sns.heatmap(df_pivot, annot=True, fmt=\".2f\", linewidths=.5, cmap='coolwarm')\n",
    "\n",
    "    # Set the aspect of the plot to be equal, for square cells\n",
    "    ax.set_aspect(\"equal\")\n",
    "\n",
    "    # Rotate the labels on y-axis\n",
    "    plt.yticks(rotation=0)\n",
    "\n",
    "    plt.title('Average Time Difference Heatmap by Period and Day for Bus R5 get to SFU Bay 2')\n",
    "    # Save the plot to a file\n",
    "    plt.savefig('BusR5heatmap.png', dpi=300, bbox_inches='tight')\n",
    "#     plt.show()"
   ]
  },
  {
   "cell_type": "code",
   "execution_count": 13,
   "id": "92c25c12",
   "metadata": {},
   "outputs": [
    {
     "data": {
      "image/png": "[encoded data removed]",
      "text/plain": [
       "<Figure size 1000x700 with 2 Axes>"
      ]
     },
     "metadata": {},
     "output_type": "display_data"
    }
   ],
   "source": [
    "main()"
   ]
  }
 ],
 "metadata": {
  "kernelspec": {
   "display_name": "Python 3 (ipykernel)",
   "language": "python",
   "name": "python3"
  },
  "language_info": {
   "codemirror_mode": {
    "name": "ipython",
    "version": 3
   },
   "file_extension": ".py",
   "mimetype": "text/x-python",
   "name": "python",
   "nbconvert_exporter": "python",
   "pygments_lexer": "ipython3",
   "version": "3.11.5"
  }
 },
 "nbformat": 4,
 "nbformat_minor": 5
}
