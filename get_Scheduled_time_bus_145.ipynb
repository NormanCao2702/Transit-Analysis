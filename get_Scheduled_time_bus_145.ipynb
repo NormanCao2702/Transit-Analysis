{
 "cells": [
  {
   "cell_type": "code",
   "execution_count": 1,
   "id": "e3dea121",
   "metadata": {},
   "outputs": [],
   "source": [
    "# How often is Bus 145 late to get to SFU transportation 3 and vice versa?\n",
    "# Steps:\n",
    "# 1 Identify Route ID for Bus 145\n",
    "# 2 Determine Trip IDs for Both Directions\n",
    "# 3 Analyze Scheduled vs. Actual Times"
   ]
  },
  {
   "cell_type": "code",
   "execution_count": 2,
   "id": "942472b2",
   "metadata": {},
   "outputs": [],
   "source": [
    "import pandas as pd"
   ]
  },
  {
   "cell_type": "code",
   "execution_count": 3,
   "id": "a8f22286",
   "metadata": {},
   "outputs": [],
   "source": [
    "def routeID():\n",
    "    # Load the routes.txt file\n",
    "    routes_df = pd.read_csv('GTFS-Static-Data/routes.txt')\n",
    "\n",
    "    # Search for Bus 145 in either the route_short_name or route_long_name columns\n",
    "    bus_145_filter = routes_df['route_short_name'].str.contains('145', na=False) | routes_df['route_long_name'].str.contains('145', na=False)\n",
    "\n",
    "    # Filter for rows that mention '145', which might indicate Bus 145's route\n",
    "    bus_145_routes = routes_df[bus_145_filter]\n",
    "    bus_145_id = bus_145_routes['route_id'].iloc[0]\n",
    "    \n",
    "    # Display the filtered DataFrame to identify the Route ID(s) for Bus 145\n",
    "#     print(bus_145_routes[['route_id', 'route_short_name', 'route_long_name']])\n",
    "    return bus_145_id"
   ]
  },
  {
   "cell_type": "code",
   "execution_count": 4,
   "id": "7965b63f",
   "metadata": {},
   "outputs": [],
   "source": [
    "def tripID(route_id):\n",
    "    # Load the trips.txt file\n",
    "    trips_df = pd.read_csv('GTFS-Static-Data/trips.txt')\n",
    "\n",
    "    # Filter for trips that belong to the given route ID\n",
    "    bus_145_trips = trips_df[trips_df['route_id'] == route_id]\n",
    "\n",
    "    # Separate the trips by direction\n",
    "    trips_direction_0 = bus_145_trips[bus_145_trips['direction_id'] == 0]['trip_id'].tolist()\n",
    "    trips_direction_1 = bus_145_trips[bus_145_trips['direction_id'] == 1]['trip_id'].tolist()\n",
    "\n",
    "    return trips_direction_0, trips_direction_1"
   ]
  },
  {
   "cell_type": "code",
   "execution_count": 5,
   "id": "963a08a6",
   "metadata": {},
   "outputs": [],
   "source": [
    "def stopID(stop_name):\n",
    "    # Load the stops.txt file\n",
    "    stops_df = pd.read_csv('GTFS-Static-Data/stops.txt')\n",
    "\n",
    "    # Filter stops containing the specified keywords in their names\n",
    "    filtered_stops = stops_df[stops_df['stop_name'].str.contains('|'.join(stop_name), case=False, na=False)]\n",
    "\n",
    "    return filtered_stops[['stop_id', 'stop_name']]"
   ]
  },
  {
   "cell_type": "code",
   "execution_count": 6,
   "id": "8d799cd7",
   "metadata": {},
   "outputs": [],
   "source": [
    "def getScheduledTimes(trip_ids, origin_stop_id, destination_stop_id):\n",
    "    # Load the stop_times.txt file\n",
    "    stop_times_df = pd.read_csv('GTFS-Static-Data/stop_times.txt')\n",
    "\n",
    "    # Filter for the relevant trips\n",
    "    relevant_trips = stop_times_df[stop_times_df['trip_id'].isin(trip_ids)]\n",
    "\n",
    "    # Further filter for only the origin and destination stops\n",
    "    origin_times = relevant_trips[relevant_trips['stop_id'] == origin_stop_id]\n",
    "    destination_times = relevant_trips[relevant_trips['stop_id'] == destination_stop_id]\n",
    "\n",
    "    # Create a DataFrame to hold the scheduled times for each trip at the origin and destination\n",
    "    scheduled_times = pd.DataFrame({\n",
    "        'trip_id': trip_ids,\n",
    "        'origin_scheduled_time': [origin_times[origin_times['trip_id'] == trip_id]['arrival_time'].values[0] for trip_id in trip_ids],\n",
    "        'destination_scheduled_time': [destination_times[destination_times['trip_id'] == trip_id]['arrival_time'].values[0] for trip_id in trip_ids]\n",
    "    })\n",
    "\n",
    "    return scheduled_times"
   ]
  },
  {
   "cell_type": "code",
   "execution_count": 7,
   "id": "17554be1",
   "metadata": {},
   "outputs": [],
   "source": [
    "def main():\n",
    "    route_id_for_145 = routeID()\n",
    "    # trip_dir 0 = Pro to SFu, trip_dir 1 = SFU to Pro\n",
    "    trips_direction_0, trips_direction_1 = tripID(route_id_for_145)\n",
    "    \n",
    "#     print(f\"Trip IDs for Bus 145 from Production Way to SFU (Direction 0): {trips_direction_0}\")\n",
    "#     print(f\"Trip IDs for Bus 145 from SFU to Production Way (Direction 1): {trips_direction_1}\")\n",
    "    # Find stop IDs for Production Way\n",
    "    \n",
    "    production_way_stop = stopID(['Production Way Station @ Bay 1'])\n",
    "    production_way_stop_id = production_way_stop['stop_id'].iloc[0]\n",
    "    print(production_way_stop)\n",
    "    print(f\"Production way stop id: {production_way_stop_id}\")\n",
    "\n",
    "    # Find stop IDs for SFU & production way\n",
    "    sfu_stop = stopID(['SFU Transit Exchange @ Bay 1'])\n",
    "    sfu_stop_id = sfu_stop['stop_id'].iloc[0]\n",
    "#     print(sfu_stop)\n",
    "#     print(f\"SFU Stop id: {sfu_stop_id}\")\n",
    "    pro_to_sfu_scheduled_times = getScheduledTimes(trips_direction_0, production_way_stop_id, sfu_stop_id)\n",
    "    sfu_to_pro_scheduled_times = getScheduledTimes(trips_direction_1, sfu_stop_id, production_way_stop_id)\n",
    "\n",
    "    pro_to_sfu_scheduled_times.to_csv(\"Production Way Bay 1 to SFU Bay 1 scheduled time.csv\", index=False)\n",
    "    sfu_to_pro_scheduled_times.to_csv(\"SFU Bay 1 to Production Way Bay 1 scheduled time.csv\", index=False)\n",
    "    \n",
    "#     print(pro_to_sfu_scheduled_times)\n",
    "#     print(sfu_to_pro_scheduled_times)"
   ]
  },
  {
   "cell_type": "code",
   "execution_count": 8,
   "id": "2112e4f1",
   "metadata": {},
   "outputs": [
    {
     "name": "stdout",
     "output_type": "stream",
     "text": [
      "     stop_id                       stop_name\n",
      "591    10971  Production Way Station @ Bay 1\n",
      "Production way stop id: 10971\n"
     ]
    }
   ],
   "source": [
    "main()"
   ]
  }
 ],
 "metadata": {
  "kernelspec": {
   "display_name": "Python 3 (ipykernel)",
   "language": "python",
   "name": "python3"
  },
  "language_info": {
   "codemirror_mode": {
    "name": "ipython",
    "version": 3
   },
   "file_extension": ".py",
   "mimetype": "text/x-python",
   "name": "python",
   "nbconvert_exporter": "python",
   "pygments_lexer": "ipython3",
   "version": "3.11.5"
  }
 },
 "nbformat": 4,
 "nbformat_minor": 5
}
