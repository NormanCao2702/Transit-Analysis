{
 "cells": [
  {
   "cell_type": "code",
   "execution_count": null,
   "id": "6c693560",
   "metadata": {},
   "outputs": [],
   "source": [
    "# How often is Bus 145 late to get to SFU transportation 3 and vice versa?\n",
    "# Steps:\n",
    "# 1 Identify Route ID for Bus 145\n",
    "# 2 Determine Trip IDs for Both Directions"
   ]
  },
  {
   "cell_type": "code",
   "execution_count": 1,
   "id": "952d643f",
   "metadata": {},
   "outputs": [],
   "source": [
    "import pandas as pd"
   ]
  },
  {
   "cell_type": "code",
   "execution_count": 7,
   "id": "0bf6c9a8",
   "metadata": {},
   "outputs": [],
   "source": [
    "def main():\n",
    "    # Load the routes.txt file\n",
    "    routes_df = pd.read_csv('google_transit/routes.txt')\n",
    "\n",
    "    # Search for Bus 145 in either the route_short_name or route_long_name columns\n",
    "    bus_145_filter = routes_df['route_short_name'].str.contains('145', na=False) | routes_df['route_long_name'].str.contains('145', na=False)\n",
    "\n",
    "    # Filter for rows that mention '145', which might indicate Bus 145's route\n",
    "    bus_145_routes = routes_df[bus_145_filter]\n",
    "\n",
    "    # Display the filtered DataFrame to identify the Route ID(s) for Bus 145\n",
    "    print(bus_145_routes[['route_id', 'route_short_name', 'route_long_name']])"
   ]
  },
  {
   "cell_type": "code",
   "execution_count": 8,
   "id": "1841c5dc",
   "metadata": {},
   "outputs": [
    {
     "name": "stdout",
     "output_type": "stream",
     "text": [
      "    route_id route_short_name         route_long_name\n",
      "112     6658              145  SFU/Production Station\n"
     ]
    }
   ],
   "source": [
    "main()"
   ]
  }
 ],
 "metadata": {
  "kernelspec": {
   "display_name": "Python 3 (ipykernel)",
   "language": "python",
   "name": "python3"
  },
  "language_info": {
   "codemirror_mode": {
    "name": "ipython",
    "version": 3
   },
   "file_extension": ".py",
   "mimetype": "text/x-python",
   "name": "python",
   "nbconvert_exporter": "python",
   "pygments_lexer": "ipython3",
   "version": "3.11.5"
  }
 },
 "nbformat": 4,
 "nbformat_minor": 5
}
