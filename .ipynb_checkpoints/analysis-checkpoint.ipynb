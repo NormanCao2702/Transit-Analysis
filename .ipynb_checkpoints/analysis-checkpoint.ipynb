{
 "cells": [
  {
   "cell_type": "code",
   "execution_count": null,
   "id": "e3dea121",
   "metadata": {},
   "outputs": [],
   "source": [
    "# How often is Bus 145 late to get to SFU transportation 3 and vice versa?\n",
    "# Steps:\n",
    "# 1 Identify Route ID for Bus 145\n",
    "# 2 Determine Trip IDs for Both Directions\n",
    "# 3 Analyze Scheduled vs. Actual Times"
   ]
  },
  {
   "cell_type": "code",
   "execution_count": 1,
   "id": "942472b2",
   "metadata": {},
   "outputs": [],
   "source": [
    "import pandas as pd"
   ]
  },
  {
   "cell_type": "code",
   "execution_count": 82,
   "id": "a8f22286",
   "metadata": {},
   "outputs": [],
   "source": [
    "def routeID():\n",
    "    # Load the routes.txt file\n",
    "    routes_df = pd.read_csv('google_transit/routes.txt')\n",
    "\n",
    "    # Search for Bus 145 in either the route_short_name or route_long_name columns\n",
    "    bus_145_filter = routes_df['route_short_name'].str.contains('145', na=False) | routes_df['route_long_name'].str.contains('145', na=False)\n",
    "\n",
    "    # Filter for rows that mention '145', which might indicate Bus 145's route\n",
    "    bus_145_routes = routes_df[bus_145_filter]\n",
    "    bus_145_id = bus_145_routes['route_id'].iloc[0]\n",
    "    \n",
    "    # Display the filtered DataFrame to identify the Route ID(s) for Bus 145\n",
    "#     print(bus_145_routes[['route_id', 'route_short_name', 'route_long_name']])\n",
    "    return bus_145_id"
   ]
  },
  {
   "cell_type": "code",
   "execution_count": 36,
   "id": "7965b63f",
   "metadata": {},
   "outputs": [],
   "source": [
    "def tripID(route_id):\n",
    "    # Load the trips.txt file\n",
    "    trips_df = pd.read_csv('google_transit/trips.txt')\n",
    "\n",
    "    # Filter for trips that belong to the given route ID\n",
    "    bus_145_trips = trips_df[trips_df['route_id'] == route_id]\n",
    "\n",
    "    # Separate the trips by direction\n",
    "    trips_direction_0 = bus_145_trips[bus_145_trips['direction_id'] == 0]['trip_id'].tolist()\n",
    "    trips_direction_1 = bus_145_trips[bus_145_trips['direction_id'] == 1]['trip_id'].tolist()\n",
    "\n",
    "    return trips_direction_0, trips_direction_1"
   ]
  },
  {
   "cell_type": "code",
   "execution_count": 43,
   "id": "963a08a6",
   "metadata": {},
   "outputs": [],
   "source": [
    "def stopID(stop_name):\n",
    "    # Load the stops.txt file\n",
    "    stops_df = pd.read_csv('google_transit/stops.txt')\n",
    "\n",
    "    # Filter stops containing the specified keywords in their names\n",
    "    filtered_stops = stops_df[stops_df['stop_name'].str.contains('|'.join(stop_name), case=False, na=False)]\n",
    "\n",
    "    return filtered_stops[['stop_id', 'stop_name']]"
   ]
  },
  {
   "cell_type": "code",
   "execution_count": 73,
   "id": "e086be30",
   "metadata": {},
   "outputs": [],
   "source": [
    "def getScheduledTimes(trip_ids, origin_stop_id, destination_stop_id):\n",
    "    # Load the stop_times.txt file\n",
    "    stop_times_df = pd.read_csv('google_transit/stop_times.txt')\n",
    "\n",
    "    # Filter for the relevant trips\n",
    "    relevant_trips = stop_times_df[stop_times_df['trip_id'].isin(trip_ids)]\n",
    "\n",
    "    # Further filter for only the origin and destination stops\n",
    "    origin_times = relevant_trips[relevant_trips['stop_id'] == origin_stop_id]\n",
    "    destination_times = relevant_trips[relevant_trips['stop_id'] == destination_stop_id]\n",
    "\n",
    "    # Create a DataFrame to hold the scheduled times for each trip at the origin and destination\n",
    "    scheduled_times = pd.DataFrame({\n",
    "        'trip_id': trip_ids,\n",
    "        'origin_scheduled_time': [origin_times[origin_times['trip_id'] == trip_id]['arrival_time'].values[0] for trip_id in trip_ids],\n",
    "        'destination_scheduled_time': [destination_times[destination_times['trip_id'] == trip_id]['arrival_time'].values[0] for trip_id in trip_ids]\n",
    "    })\n",
    "\n",
    "    return scheduled_times"
   ]
  },
  {
   "cell_type": "code",
   "execution_count": 89,
   "id": "17554be1",
   "metadata": {},
   "outputs": [],
   "source": [
    "def main():\n",
    "    route_id_for_145 = routeID()\n",
    "    # trip_dir 0 = Pro to SFu, trip_dir 1 = SFU to Pro\n",
    "    trips_direction_0, trips_direction_1 = tripID(route_id_for_145)\n",
    "    \n",
    "#     print(f\"Trip IDs for Bus 145 from Production Way to SFU (Direction 0): {trips_direction_0}\")\n",
    "#     print(f\"Trip IDs for Bus 145 from SFU to Production Way (Direction 1): {trips_direction_1}\")\n",
    "    # Find stop IDs for Production Way\n",
    "    \n",
    "    production_way_stop = stopID(['Production Way Station @ Bay 1'])\n",
    "    production_way_stop_id = production_way_stop['stop_id'].iloc[0]\n",
    "#     print(production_way_stop)\n",
    "#     print(f\"Production way stop id: {production_way_stop_id}\")\n",
    "\n",
    "    # Find stop IDs for SFU & production way\n",
    "    sfu_stop = stopID(['SFU Transit Exchange @ Bay 1'])\n",
    "    sfu_stop_id = sfu_stop['stop_id'].iloc[0]\n",
    "#     print(sfu_stop)\n",
    "#     print(f\"SFU Stop id: {sfu_stop_id}\")\n",
    "    pro_to_sfu_scheduled_times = getScheduledTimes(trips_direction_0, production_way_stop_id, sfu_stop_id)\n",
    "    sfu_to_pro_scheduled_times = getScheduledTimes(trips_direction_1, sfu_stop_id, production_way_stop_id)\n",
    "\n",
    "\n",
    "    \n",
    "    pro_to_sfu_scheduled_times.to_csv(\"Production Way Bay 1 to SFU Bay 1 scheduled time.csv\", index=False)\n",
    "    sfu_to_pro_scheduled_times.to_csv(\"SFU Bay 1 to Production Way Bay 1 scheduled time.csv\", index=False)\n",
    "    \n",
    "    print(pro_to_sfu_scheduled_times)\n",
    "    print(sfu_to_pro_scheduled_times)"
   ]
  },
  {
   "cell_type": "code",
   "execution_count": 90,
   "id": "2112e4f1",
   "metadata": {},
   "outputs": [
    {
     "name": "stdout",
     "output_type": "stream",
     "text": [
      "      trip_id origin_scheduled_time destination_scheduled_time\n",
      "0    13678472               5:57:00                    6:10:00\n",
      "1    13678473               6:19:00                    6:32:00\n",
      "2    13678474               6:34:00                    6:47:00\n",
      "3    13678475              18:04:00                   18:18:00\n",
      "4    13678476              18:16:00                   18:30:00\n",
      "..        ...                   ...                        ...\n",
      "215  13678862              17:15:00                   17:28:00\n",
      "216  13678863              18:15:00                   18:28:00\n",
      "217  13678864              19:15:00                   19:29:00\n",
      "218  13678865              20:16:00                   20:29:00\n",
      "219  13719923              19:08:00                   19:22:00\n",
      "\n",
      "[220 rows x 3 columns]\n",
      "      trip_id origin_scheduled_time destination_scheduled_time\n",
      "0    13678587               5:55:00                    6:14:00\n",
      "1    13678588               6:15:00                    6:32:00\n",
      "2    13678589               6:28:00                    6:45:00\n",
      "3    13678590               6:38:00                    6:55:00\n",
      "4    13678591               6:57:00                    7:15:00\n",
      "..        ...                   ...                        ...\n",
      "217  13678908              17:15:00                   17:32:00\n",
      "218  13678909              18:15:00                   18:32:00\n",
      "219  13678910              19:15:00                   19:32:00\n",
      "220  13678911              20:15:00                   20:34:00\n",
      "221  13678912              19:55:00                   20:13:00\n",
      "\n",
      "[222 rows x 3 columns]\n"
     ]
    }
   ],
   "source": [
    "main()"
   ]
  },
  {
   "cell_type": "code",
   "execution_count": null,
   "id": "fc3f0333",
   "metadata": {},
   "outputs": [],
   "source": []
  }
 ],
 "metadata": {
  "kernelspec": {
   "display_name": "Python 3 (ipykernel)",
   "language": "python",
   "name": "python3"
  },
  "language_info": {
   "codemirror_mode": {
    "name": "ipython",
    "version": 3
   },
   "file_extension": ".py",
   "mimetype": "text/x-python",
   "name": "python",
   "nbconvert_exporter": "python",
   "pygments_lexer": "ipython3",
   "version": "3.11.5"
  }
 },
 "nbformat": 4,
 "nbformat_minor": 5
}
