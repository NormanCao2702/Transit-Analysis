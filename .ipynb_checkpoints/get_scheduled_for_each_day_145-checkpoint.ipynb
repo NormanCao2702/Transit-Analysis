{
 "cells": [
  {
   "cell_type": "code",
   "execution_count": 1,
   "id": "68c456b0",
   "metadata": {},
   "outputs": [],
   "source": [
    "import pandas as pd\n",
    "from sklearn.cluster import KMeans\n",
    "import numpy as np\n",
    "import matplotlib.pyplot as plt\n",
    "import seaborn as sns"
   ]
  },
  {
   "cell_type": "code",
   "execution_count": 2,
   "id": "6b418fd4",
   "metadata": {},
   "outputs": [],
   "source": [
    "def read_gtfs_files():\n",
    "    \"\"\"\n",
    "    Reads necessary GTFS static files and returns them as DataFrames.\n",
    "    \"\"\"\n",
    "    routes_df = pd.read_csv('GTFS-Static-Data/routes.txt')\n",
    "    trips_df = pd.read_csv('GTFS-Static-Data/trips.txt')\n",
    "    stops_df = pd.read_csv('GTFS-Static-Data/stops.txt')\n",
    "    stop_times_df = pd.read_csv('GTFS-Static-Data/stop_times.txt')\n",
    "    calendar_df = pd.read_csv('GTFS-Static-Data/calendar.txt')\n",
    "    return routes_df, trips_df, stops_df, stop_times_df, calendar_df"
   ]
  },
  {
   "cell_type": "code",
   "execution_count": 3,
   "id": "e3822b4b",
   "metadata": {},
   "outputs": [],
   "source": [
    "def filter_by_route(routes_df, route_short_name='145'):\n",
    "    \"\"\"\n",
    "    Filters routes by short name and returns the route ID.\n",
    "    \"\"\"\n",
    "    bus_route_id = routes_df[routes_df['route_short_name'] == route_short_name]['route_id'].iloc[0]\n",
    "    return bus_route_id"
   ]
  },
  {
   "cell_type": "code",
   "execution_count": 4,
   "id": "765aad3f",
   "metadata": {},
   "outputs": [],
   "source": [
    "def filter_by_stop(stops_df, stop_name):\n",
    "    sfu_stop_id = stops_df[stops_df['stop_name'].str.contains(stop_name, case=False, na=False)]['stop_id'].iloc[0]\n",
    "    return sfu_stop_id"
   ]
  },
  {
   "cell_type": "code",
   "execution_count": 5,
   "id": "c020de54",
   "metadata": {},
   "outputs": [],
   "source": [
    "def filter_trips_to_SFU_by_route(trips_df, route_id, direction_id):\n",
    "    \"\"\"\n",
    "    Filters trips by route ID.\n",
    "    direction_id = 0 -> Production Way to SFU, direction_id = 1 -> SFU to Production Way\n",
    "    \"\"\"\n",
    "    return trips_df[(trips_df['route_id'] == route_id) &\n",
    "                   (direction_id == direction_id)]"
   ]
  },
  {
   "cell_type": "code",
   "execution_count": 6,
   "id": "270fe14c",
   "metadata": {},
   "outputs": [],
   "source": [
    "def filter_stop_times_by_trip_and_stop(stop_times_df, trip_to_SFU_df, stop_id):\n",
    "    \"\"\"\n",
    "    Filters stop times by trip ID and stop ID.\n",
    "    \"\"\"\n",
    "    merged_df = pd.merge(stop_times_df, trip_to_SFU_df, on='trip_id')\n",
    "    filtered_df = merged_df[merged_df['stop_id']==stop_id]\n",
    "    return filtered_df"
   ]
  },
  {
   "cell_type": "code",
   "execution_count": 7,
   "id": "2467439f",
   "metadata": {},
   "outputs": [],
   "source": [
    "def get_trips_by_day(df,calendar_df, day_name):\n",
    "    \"\"\"\n",
    "    Filter trips by day.\n",
    "    \n",
    "    :param df: DataFrame containing the trip data\n",
    "    :param day_name: Name of the day to filter by (e.g., 'Monday')\n",
    "    :return: DataFrame with trips that run on the specified day\n",
    "    \"\"\"\n",
    "    trip_at_SFU_service = pd.merge(df, calendar_df, on='service_id')\n",
    "    filtered_trip = trip_at_SFU_service[trip_at_SFU_service[day_name]==1]\n",
    "    selected_columns = ['trip_id', 'arrival_time', day_name]\n",
    "    filtered_trip = filtered_trip[selected_columns]\n",
    "    filtered_trip= filtered_trip.sort_values(by='arrival_time')\n",
    "    filtered_trip = filtered_trip.reset_index(drop=True)\n",
    "    return filtered_trip"
   ]
  },
  {
   "cell_type": "code",
   "execution_count": 8,
   "id": "5c2489f1",
   "metadata": {},
   "outputs": [],
   "source": [
    "def convert_time(time_str):\n",
    "        \"\"\"Converts time strings into timedelta, adjusting for times beyond 24:00:00.\"\"\"\n",
    "        hours, minutes, seconds = map(int, time_str.split(':'))\n",
    "        if hours >= 24:\n",
    "            hours -= 24  # Adjust hours to 0-23 range\n",
    "            # Add one day to the timedelta for times past 24:00:00\n",
    "            return pd.Timedelta(days=1) + pd.Timedelta(hours=hours, minutes=minutes, seconds=seconds)\n",
    "        else:\n",
    "            return pd.Timedelta(hours=hours, minutes=minutes, seconds=seconds)"
   ]
  },
  {
   "cell_type": "code",
   "execution_count": 9,
   "id": "39344f75",
   "metadata": {},
   "outputs": [],
   "source": [
    "def calculate_time_diff_and_period(df):\n",
    "    \"\"\"\n",
    "    Calculates time differences between consecutive buses and assigns period based on arrival time.\n",
    "    This function is a placeholder to illustrate where you'd calculate 'Time Diff' and 'Period'.\n",
    "    \"\"\"\n",
    "    df['timedelta'] = df['arrival_time'].apply(convert_time)\n",
    "\n",
    "    # Calculate the time difference in minutes\n",
    "    df['time_diff'] = df['timedelta'].diff().dt.total_seconds() / 60\n",
    "    df['time_diff'].fillna(0, inplace=True) \n",
    "    \n",
    "    # Remove the 'timedelta' column it's no longer needed\n",
    "    df.drop('timedelta', axis=1, inplace=True)\n",
    "    \n",
    "    return df"
   ]
  },
  {
   "cell_type": "code",
   "execution_count": 10,
   "id": "37f0a141",
   "metadata": {},
   "outputs": [],
   "source": [
    "def convert_time_cluster(time_str):\n",
    "    # Split the time string into components\n",
    "    hours, minutes, seconds = map(int, time_str.split(':'))\n",
    "    # Adjust hours if they exceed 24 and calculate total minutes past midnight\n",
    "    total_minutes = ((hours - 24) * 60 if hours >= 24 else hours * 60) + minutes + seconds / 60\n",
    "    return total_minutes"
   ]
  },
  {
   "cell_type": "code",
   "execution_count": 11,
   "id": "6f216669",
   "metadata": {},
   "outputs": [],
   "source": [
    "def applying_clustering(df,bus_and_day):\n",
    "#     columns_need = ['trip_id','arrival_time','time_diff']\n",
    "#     df = df[columns_need]\n",
    "    df['minutes_past_midnight'] = df['arrival_time'].apply(convert_time_cluster)\n",
    "#     print(df)\n",
    "    X = df[['minutes_past_midnight', 'time_diff']]\n",
    "\n",
    "#     kmeans = KMeans(n_clusters=5,n_init=10, random_state=42)\n",
    "    kmeans = KMeans(n_clusters=3,n_init=10, random_state=42)\n",
    "    kmeans.fit(X)\n",
    "\n",
    "    # Assign clusters back to the DataFrame\n",
    "    df['cluster'] = kmeans.labels_\n",
    "    df = df[['trip_id','arrival_time','time_diff','cluster','minutes_past_midnight']]\n",
    "    \n",
    "    df.to_csv(bus_and_day+ \"_clustering.csv\",index=True)\n",
    "    \n",
    "    # Set the style of the visualization\n",
    "    sns.set(style=\"whitegrid\")\n",
    "\n",
    "    # Plot\n",
    "    plt.figure(figsize=(12, 6))\n",
    "\n",
    "    # Scatter plot for minutes past midnight vs time_diff colored by cluster\n",
    "    sns.scatterplot(data=df, x='minutes_past_midnight', y='time_diff', hue='cluster', palette='viridis', alpha=0.7, s=100)\n",
    "\n",
    "    # Enhance plot\n",
    "    plt.title(bus_and_day + ' Cluster Distribution by Minutes Past Midnight and Time Difference')\n",
    "    plt.xlabel('Minutes Past Midnight')\n",
    "    plt.ylabel('Time Difference (minutes)')\n",
    "    plt.legend(title='Cluster')\n",
    "    # Save the plot to a file\n",
    "    plt.savefig(bus_and_day+'_ScheduleCluster.png', dpi=300, bbox_inches='tight')"
   ]
  },
  {
   "cell_type": "code",
   "execution_count": 12,
   "id": "e2cdf3ad",
   "metadata": {},
   "outputs": [],
   "source": [
    "def main():\n",
    "    routes_df, trips_df, stops_df, stop_times_df, calendar_df = read_gtfs_files()\n",
    "    \n",
    "    # get bus route_id and stop sfu transit bay 2\n",
    "    route_145_id = filter_by_route(routes_df, '145')\n",
    "    route_144_id = filter_by_route(routes_df, '144')\n",
    "    route_143_id = filter_by_route(routes_df, '143')\n",
    "    route_R5_id = filter_by_route(routes_df, 'R5')\n",
    "    \n",
    "    sfu_stop_id = filter_by_stop(stops_df,'SFU Transportation Centre @ Bay 2')\n",
    "    \n",
    "#     trips_to_SFU_145 = filter_trips_to_SFU_by_route(trips_df,  route_145_id, 0)\n",
    "#     trips_to_SFU_arrival_time_145 = filter_stop_times_by_trip_and_stop(stop_times_df, trips_to_SFU_145, sfu_stop_id)\n",
    "    \n",
    "#     trips_to_SFU_144 = filter_trips_to_SFU_by_route(trips_df, route_144_id, 0)\n",
    "#     trips_to_SFU_arrival_time_144 = filter_stop_times_by_trip_and_stop(stop_times_df, trips_to_SFU_144, sfu_stop_id)\n",
    "    \n",
    "    trips_to_SFU_143 = filter_trips_to_SFU_by_route(trips_df, route_143_id, 0)\n",
    "    trips_to_SFU_arrival_time_143 = filter_stop_times_by_trip_and_stop(stop_times_df, trips_to_SFU_143, sfu_stop_id)\n",
    "    \n",
    "#     trips_to_SFU_R5 = filter_trips_to_SFU_by_route(trips_df, route_R5_id, 0)\n",
    "#     trips_to_SFU_arrival_time_R5 = filter_stop_times_by_trip_and_stop(stop_times_df, trips_to_SFU_R5, sfu_stop_id)\n",
    "    \n",
    "    week_day = 'monday'\n",
    "#     trips_to_SFU_arrival_time_weekday_145 = get_trips_by_day(trips_to_SFU_arrival_time_145,calendar_df, week_day)\n",
    "#     trips_to_SFU_arrival_time_weekday_145 = calculate_time_diff_and_period(trips_to_SFU_arrival_time_weekday_145)\n",
    "#     applying_clustering(trips_to_SFU_arrival_time_weekday_145, 'bus_145_weekday')\n",
    "#     trips_to_SFU_arrival_time_weekday_145.to_csv('bus_145_weekday_trips.csv',index=True)\n",
    "    \n",
    "#     trips_to_SFU_arrival_time_weekday_144 = get_trips_by_day(trips_to_SFU_arrival_time_144,calendar_df, week_day)\n",
    "#     trips_to_SFU_arrival_time_weekday_144 = calculate_time_diff_and_period(trips_to_SFU_arrival_time_weekday_144)\n",
    "#     applying_clustering(trips_to_SFU_arrival_time_weekday_144, 'bus_144_weekday')\n",
    "#     trips_to_SFU_arrival_time_weekday_144.to_csv('bus_144_weekday_trips.csv',index=True)\n",
    "    \n",
    "    trips_to_SFU_arrival_time_weekday_143 = get_trips_by_day(trips_to_SFU_arrival_time_143,calendar_df, week_day)\n",
    "    trips_to_SFU_arrival_time_weekday_143 = calculate_time_diff_and_period(trips_to_SFU_arrival_time_weekday_143)\n",
    "    applying_clustering(trips_to_SFU_arrival_time_weekday_143, 'bus_143_weekday')\n",
    "#     trips_to_SFU_arrival_time_weekday_143.to_csv('bus_143_weekday_trips.csv',index=True)\n",
    "    \n",
    "#     trips_to_SFU_arrival_time_weekday_R5 = get_trips_by_day(trips_to_SFU_arrival_time_R5,calendar_df, week_day)\n",
    "#     trips_to_SFU_arrival_time_weekday_R5 = calculate_time_diff_and_period(trips_to_SFU_arrival_time_weekday_R5)\n",
    "#     applying_clustering(trips_to_SFU_arrival_time_weekday_R5, 'bus_R5_weekday')\n",
    "#     trips_to_SFU_arrival_time_weekday_R5.to_csv('bus_R5_weekday_trips.csv',index=True)\n",
    "    \n",
    "    sat = 'saturday'\n",
    "#     trips_to_SFU_arrival_time_sat_145 = get_trips_by_day(trips_to_SFU_arrival_time_145,calendar_df, sat)\n",
    "#     trips_to_SFU_arrival_time_sat_145 = calculate_time_diff_and_period(trips_to_SFU_arrival_time_sat_145)\n",
    "#     applying_clustering(trips_to_SFU_arrival_time_sat_145, 'bus_145_saturday')\n",
    "#     trips_to_SFU_arrival_time_sat_145.to_csv('bus_145_saturday_trips.csv',index=True)\n",
    "\n",
    "#     trips_to_SFU_arrival_time_sat_144 = get_trips_by_day(trips_to_SFU_arrival_time_144,calendar_df, sat)\n",
    "#     trips_to_SFU_arrival_time_sat_144 = calculate_time_diff_and_period(trips_to_SFU_arrival_time_sat_144)\n",
    "#     applying_clustering(trips_to_SFU_arrival_time_sat_144, 'bus_144_saturday')\n",
    "#     trips_to_SFU_arrival_time_sat_144.to_csv('bus_144_saturday_trips.csv',index=True)\n",
    "\n",
    "#     trips_to_SFU_arrival_time_sat_R5 = get_trips_by_day(trips_to_SFU_arrival_time_R5,calendar_df, sat)\n",
    "#     trips_to_SFU_arrival_time_sat_R5 = calculate_time_diff_and_period(trips_to_SFU_arrival_time_sat_R5)\n",
    "#     applying_clustering(trips_to_SFU_arrival_time_sat_R5, 'bus_R5_saturday')\n",
    "#     trips_to_SFU_arrival_time_sat_R5.to_csv('bus_R5_saturday_trips.csv',index=True)\n",
    "    \n",
    "    sun = 'sunday'\n",
    "#     trips_to_SFU_arrival_time_sun_145 = get_trips_by_day(trips_to_SFU_arrival_time_145,calendar_df, sun)\n",
    "#     trips_to_SFU_arrival_time_sun_145 = calculate_time_diff_and_period(trips_to_SFU_arrival_time_sun_145)\n",
    "#     applying_clustering(trips_to_SFU_arrival_time_sun_145, 'bus_145_sunday')\n",
    "#     trips_to_SFU_arrival_time_sun_145.to_csv('bus_145_sunday_trips.csv',index=True)\n",
    "\n",
    "#     trips_to_SFU_arrival_time_sun_144 = get_trips_by_day(trips_to_SFU_arrival_time_144,calendar_df, sun)\n",
    "#     trips_to_SFU_arrival_time_sun_144 = calculate_time_diff_and_period(trips_to_SFU_arrival_time_sun_144)\n",
    "#     applying_clustering(trips_to_SFU_arrival_time_sun_144, 'bus_144_sunday')\n",
    "#     trips_to_SFU_arrival_time_sun_144.to_csv('bus_144_sunday_trips.csv',index=True)\n",
    "\n",
    "#     trips_to_SFU_arrival_time_sun_R5 = get_trips_by_day(trips_to_SFU_arrival_time_R5,calendar_df, sun)\n",
    "#     trips_to_SFU_arrival_time_sun_R5 = calculate_time_diff_and_period(trips_to_SFU_arrival_time_sun_R5)\n",
    "#     applying_clustering(trips_to_SFU_arrival_time_sun_R5, 'bus_R5_sunday')\n",
    "#     trips_to_SFU_arrival_time_sun_R5.to_csv('bus_R5_sunday_trips.csv',index=True)"
   ]
  },
  {
   "cell_type": "code",
   "execution_count": 13,
   "id": "8a46ab73",
   "metadata": {},
   "outputs": [
    {
     "ename": "NameError",
     "evalue": "name 'trips_to_SFU_arrival_time_143' is not defined",
     "output_type": "error",
     "traceback": [
      "\u001b[0;31m---------------------------------------------------------------------------\u001b[0m",
      "\u001b[0;31mNameError\u001b[0m                                 Traceback (most recent call last)",
      "Cell \u001b[0;32mIn[13], line 1\u001b[0m\n\u001b[0;32m----> 1\u001b[0m main()\n",
      "Cell \u001b[0;32mIn[12], line 35\u001b[0m, in \u001b[0;36mmain\u001b[0;34m()\u001b[0m\n\u001b[1;32m     24\u001b[0m     week_day \u001b[38;5;241m=\u001b[39m \u001b[38;5;124m'\u001b[39m\u001b[38;5;124mmonday\u001b[39m\u001b[38;5;124m'\u001b[39m\n\u001b[1;32m     25\u001b[0m \u001b[38;5;66;03m#     trips_to_SFU_arrival_time_weekday_145 = get_trips_by_day(trips_to_SFU_arrival_time_145,calendar_df, week_day)\u001b[39;00m\n\u001b[1;32m     26\u001b[0m \u001b[38;5;66;03m#     trips_to_SFU_arrival_time_weekday_145 = calculate_time_diff_and_period(trips_to_SFU_arrival_time_weekday_145)\u001b[39;00m\n\u001b[1;32m     27\u001b[0m \u001b[38;5;66;03m#     applying_clustering(trips_to_SFU_arrival_time_weekday_145, 'bus_145_weekday')\u001b[39;00m\n\u001b[0;32m   (...)\u001b[0m\n\u001b[1;32m     32\u001b[0m \u001b[38;5;66;03m#     applying_clustering(trips_to_SFU_arrival_time_weekday_144, 'bus_144_weekday')\u001b[39;00m\n\u001b[1;32m     33\u001b[0m \u001b[38;5;66;03m#     trips_to_SFU_arrival_time_weekday_144.to_csv('bus_144_weekday_trips.csv',index=True)\u001b[39;00m\n\u001b[0;32m---> 35\u001b[0m     trips_to_SFU_arrival_time_weekday_143 \u001b[38;5;241m=\u001b[39m get_trips_by_day(trips_to_SFU_arrival_time_143,calendar_df, week_day)\n\u001b[1;32m     36\u001b[0m     trips_to_SFU_arrival_time_weekday_143 \u001b[38;5;241m=\u001b[39m calculate_time_diff_and_period(trips_to_SFU_arrival_time_weekday_143)\n\u001b[1;32m     37\u001b[0m     applying_clustering(trips_to_SFU_arrival_time_weekday_143, \u001b[38;5;124m'\u001b[39m\u001b[38;5;124mbus_143_weekday\u001b[39m\u001b[38;5;124m'\u001b[39m)\n",
      "\u001b[0;31mNameError\u001b[0m: name 'trips_to_SFU_arrival_time_143' is not defined"
     ]
    }
   ],
   "source": [
    "main()"
   ]
  }
 ],
 "metadata": {
  "kernelspec": {
   "display_name": "Python 3 (ipykernel)",
   "language": "python",
   "name": "python3"
  },
  "language_info": {
   "codemirror_mode": {
    "name": "ipython",
    "version": 3
   },
   "file_extension": ".py",
   "mimetype": "text/x-python",
   "name": "python",
   "nbconvert_exporter": "python",
   "pygments_lexer": "ipython3",
   "version": "3.11.5"
  }
 },
 "nbformat": 4,
 "nbformat_minor": 5
}
