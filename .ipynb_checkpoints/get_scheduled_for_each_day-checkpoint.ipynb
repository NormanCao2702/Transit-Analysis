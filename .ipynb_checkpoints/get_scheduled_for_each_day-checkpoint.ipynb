{
 "cells": [
  {
   "cell_type": "code",
   "execution_count": 1,
   "id": "68c456b0",
   "metadata": {},
   "outputs": [],
   "source": [
    "import pandas as pd\n",
    "import seaborn as sns\n",
    "import matplotlib.pyplot as plt"
   ]
  },
  {
   "cell_type": "code",
   "execution_count": 2,
   "id": "6b418fd4",
   "metadata": {},
   "outputs": [],
   "source": [
    "def read_gtfs_files():\n",
    "    \"\"\"\n",
    "    Reads necessary GTFS static files and returns them as DataFrames.\n",
    "    \"\"\"\n",
    "    routes_df = pd.read_csv('GTFS-Static-Data/routes.txt')\n",
    "    trips_df = pd.read_csv('GTFS-Static-Data/trips.txt')\n",
    "    stops_df = pd.read_csv('GTFS-Static-Data/stops.txt')\n",
    "    stop_times_df = pd.read_csv('GTFS-Static-Data/stop_times.txt')\n",
    "    calendar_df = pd.read_csv('GTFS-Static-Data/calendar.txt')\n",
    "    return routes_df, trips_df, stops_df, stop_times_df, calendar_df"
   ]
  },
  {
   "cell_type": "code",
   "execution_count": 3,
   "id": "e3822b4b",
   "metadata": {},
   "outputs": [],
   "source": [
    "def filter_by_route(routes_df, route_short_name='145'):\n",
    "    \"\"\"\n",
    "    Filters routes by short name and returns the route ID.\n",
    "    \"\"\"\n",
    "    bus_route_id = routes_df[routes_df['route_short_name'] == route_short_name]['route_id'].iloc[0]\n",
    "    return bus_route_id"
   ]
  },
  {
   "cell_type": "code",
   "execution_count": 4,
   "id": "765aad3f",
   "metadata": {},
   "outputs": [],
   "source": [
    "def filter_by_stop(stops_df, stop_name):\n",
    "    sfu_stop_id = stops_df[stops_df['stop_name'].str.contains(stop_name, case=False, na=False)]['stop_id'].iloc[0]\n",
    "    return sfu_stop_id"
   ]
  },
  {
   "cell_type": "code",
   "execution_count": 5,
   "id": "c020de54",
   "metadata": {},
   "outputs": [],
   "source": [
    "def filter_trips_to_SFU_by_route(trips_df, route_id, direction_id):\n",
    "    \"\"\"\n",
    "    Filters trips by route ID.\n",
    "    direction_id = 0 -> Production Way to SFU, direction_id = 1 -> SFU to Production Way\n",
    "    \"\"\"\n",
    "    return trips_df[(trips_df['route_id'] == route_id) &\n",
    "                   (direction_id == direction_id)]"
   ]
  },
  {
   "cell_type": "code",
   "execution_count": 6,
   "id": "270fe14c",
   "metadata": {},
   "outputs": [],
   "source": [
    "def filter_stop_times_by_trip_and_stop(stop_times_df, trip_to_SFU_df, stop_id):\n",
    "    \"\"\"\n",
    "    Filters stop times by trip ID and stop ID.\n",
    "    \"\"\"\n",
    "    merged_df = pd.merge(stop_times_df, trip_to_SFU_df, on='trip_id')\n",
    "    filtered_df = merged_df[merged_df['stop_id']==stop_id]\n",
    "    return filtered_df"
   ]
  },
  {
   "cell_type": "code",
   "execution_count": 7,
   "id": "2467439f",
   "metadata": {},
   "outputs": [],
   "source": [
    "def get_trips_by_day(df,calendar_df, day_name):\n",
    "    \"\"\"\n",
    "    Filter trips by day.\n",
    "    \n",
    "    :param df: DataFrame containing the trip data\n",
    "    :param day_name: Name of the day to filter by (e.g., 'Monday')\n",
    "    :return: DataFrame with trips that run on the specified day\n",
    "    \"\"\"\n",
    "    trip_at_SFU_service = pd.merge(df, calendar_df, on='service_id')\n",
    "    filtered_trip = trip_at_SFU_service[trip_at_SFU_service[day_name]==1]\n",
    "    selected_columns = ['trip_id', 'arrival_time', day_name]\n",
    "    filtered_trip = filtered_trip[selected_columns]\n",
    "    filtered_trip= filtered_trip.sort_values(by='arrival_time')\n",
    "    filtered_trip = filtered_trip.reset_index(drop=True)\n",
    "    return filtered_trip"
   ]
  },
  {
   "cell_type": "code",
   "execution_count": 8,
   "id": "5c2489f1",
   "metadata": {},
   "outputs": [],
   "source": [
    "def convert_time(time_str):\n",
    "        \"\"\"Converts time strings into timedelta, adjusting for times beyond 24:00:00.\"\"\"\n",
    "        hours, minutes, seconds = map(int, time_str.split(':'))\n",
    "        if hours >= 24:\n",
    "            hours -= 24  # Adjust hours to 0-23 range\n",
    "            # Add one day to the timedelta for times past 24:00:00\n",
    "            return pd.Timedelta(days=1) + pd.Timedelta(hours=hours, minutes=minutes, seconds=seconds)\n",
    "        else:\n",
    "            return pd.Timedelta(hours=hours, minutes=minutes, seconds=seconds)"
   ]
  },
  {
   "cell_type": "code",
   "execution_count": 9,
   "id": "39344f75",
   "metadata": {},
   "outputs": [],
   "source": [
    "def calculate_time_diff_and_period(df):\n",
    "    \"\"\"\n",
    "    Calculates time differences between consecutive buses and assigns period based on arrival time.\n",
    "    This function is a placeholder to illustrate where you'd calculate 'Time Diff' and 'Period'.\n",
    "    \"\"\"\n",
    "    df['timedelta'] = df['arrival_time'].apply(convert_time)\n",
    "\n",
    "    # Calculate the time difference in minutes\n",
    "    df['time_diff'] = df['timedelta'].diff().dt.total_seconds() / 60\n",
    "    df['time_diff'].fillna(0, inplace=True) \n",
    "    \n",
    "    # Apply 'classify_period' to each row for the 'period' column\n",
    "    df['period'] = df['timedelta'].apply(classify_period)\n",
    "    \n",
    "    # Remove the 'timedelta' column it's no longer needed\n",
    "    df.drop('timedelta', axis=1, inplace=True)\n",
    "    \n",
    "    return df"
   ]
  },
  {
   "cell_type": "code",
   "execution_count": 10,
   "id": "006ba238",
   "metadata": {},
   "outputs": [],
   "source": [
    "# Updated Define periods function to match new criteria\n",
    "def classify_period(time):\n",
    "    if pd.Timedelta(hours=5) <= time < pd.Timedelta(hours=11):\n",
    "        return 'Morning'\n",
    "    elif pd.Timedelta(hours=11) <= time < pd.Timedelta(hours=16):\n",
    "        return 'Afternoon'\n",
    "    elif pd.Timedelta(hours=16) <= time < pd.Timedelta(hours=21):\n",
    "        return 'Evening'\n",
    "    elif (pd.Timedelta(hours=21) <= time) or (time < pd.Timedelta(hours=2)):\n",
    "        return 'Night'"
   ]
  },
  {
   "cell_type": "code",
   "execution_count": 18,
   "id": "e2cdf3ad",
   "metadata": {},
   "outputs": [],
   "source": [
    "def main():\n",
    "    routes_df, trips_df, stops_df, stop_times_df, calendar_df = read_gtfs_files()\n",
    "    \n",
    "    # get bus route_id and stop sfu transit bay 2\n",
    "    route_id = filter_by_route(routes_df, 'R5')\n",
    "    sfu_stop_id = filter_by_stop(stops_df,'SFU Transportation Centre @ Bay 2')\n",
    "    \n",
    "    trips_to_SFU = filter_trips_to_SFU_by_route(trips_df, route_id, 0)\n",
    "    trips_to_SFU_arrival_time = filter_stop_times_by_trip_and_stop(stop_times_df, trips_to_SFU, sfu_stop_id)\n",
    "    \n",
    "    week_day = 'monday'\n",
    "    trips_to_SFU_arrival_time_weekday = get_trips_by_day(trips_to_SFU_arrival_time,calendar_df, week_day)\n",
    "    trips_to_SFU_arrival_time_weekday = calculate_time_diff_and_period(trips_to_SFU_arrival_time_weekday)\n",
    "    trips_to_SFU_arrival_time_weekday.to_csv('bus_R5_weekday_trips.csv',index=True)\n",
    "    # Filter out the rows where time_diff is 0 before grouping\n",
    "    non_zero_time_diff_weekday = trips_to_SFU_arrival_time_weekday[trips_to_SFU_arrival_time_weekday['time_diff'] != 0]\n",
    "    period_avg_weekday = non_zero_time_diff_weekday.groupby('period')['time_diff'].mean().reset_index()\n",
    "    period_avg_weekday['day'] = 'Weekday'\n",
    "    print(period_avg_weekday)\n",
    "    \n",
    "    \n",
    "    sat = 'saturday'\n",
    "    trips_to_SFU_arrival_time_sat = get_trips_by_day(trips_to_SFU_arrival_time,calendar_df, sat)\n",
    "    trips_to_SFU_arrival_time_sat = calculate_time_diff_and_period(trips_to_SFU_arrival_time_sat)\n",
    "    trips_to_SFU_arrival_time_sat.to_csv('bus_R5_saturday_trips.csv',index=True)\n",
    "    # Filter out the rows where time_diff is 0 before grouping\n",
    "    non_zero_time_diff_sat = trips_to_SFU_arrival_time_sat[trips_to_SFU_arrival_time_sat['time_diff'] != 0]\n",
    "    period_avg_sat = non_zero_time_diff_sat.groupby('period')['time_diff'].mean().reset_index()\n",
    "    period_avg_sat['day'] = 'Saturday'\n",
    "    print(period_avg_sat)\n",
    "  \n",
    "    \n",
    "    sun = 'sunday'\n",
    "    trips_to_SFU_arrival_time_sun = get_trips_by_day(trips_to_SFU_arrival_time,calendar_df, sun)\n",
    "    trips_to_SFU_arrival_time_sun = calculate_time_diff_and_period(trips_to_SFU_arrival_time_sun)\n",
    "    trips_to_SFU_arrival_time_sun.to_csv('bus_R5_sunday_trips.csv',index=True)\n",
    "    # Filter out the rows where time_diff is 0 before grouping\n",
    "    non_zero_time_diff_sun = trips_to_SFU_arrival_time_sun[trips_to_SFU_arrival_time_sun['time_diff'] != 0]\n",
    "    period_avg_sun = non_zero_time_diff_sun.groupby('period')['time_diff'].mean().reset_index()\n",
    "    period_avg_sun['day'] = 'Sunday'\n",
    "    print(period_avg_sun)\n",
    "    \n",
    "    \n",
    "    period_order = ['Morning', 'Afternoon', 'Evening', 'Night']\n",
    "    day_order = ['Weekday', 'Saturday', 'Sunday']\n",
    "#     day_order = ['Weekday']\n",
    "    \n",
    "    # Combine all DataFrames into one\n",
    "    df_all_days = pd.concat([period_avg_weekday, period_avg_sat, period_avg_sun])\n",
    "    \n",
    "    # Convert the 'period' column to a categorical type with the specified order\n",
    "    df_all_days['period'] = pd.Categorical(df_all_days['period'], categories=period_order, ordered=True)\n",
    "    \n",
    "    # Pivot the combined DataFrame to create a 2D data structure for the heatmap\n",
    "    df_pivot = df_all_days.pivot(index='period', columns='day', values='time_diff')[day_order]\n",
    "\n",
    "    # Set up the matplotlib figure\n",
    "    plt.figure(figsize=(10, 7))\n",
    "\n",
    "    # Draw the heatmap\n",
    "    ax = sns.heatmap(df_pivot, annot=True, fmt=\".2f\", linewidths=.5, cmap='coolwarm')\n",
    "\n",
    "    # Set the aspect of the plot to be equal, for square cells\n",
    "    ax.set_aspect(\"equal\")\n",
    "\n",
    "    # Rotate the labels on y-axis\n",
    "    plt.yticks(rotation=0)\n",
    "\n",
    "    plt.title('Average Time Difference Heatmap by Period and Day for Bus R5 get to SFU Bay 2')\n",
    "    # Save the plot to a file\n",
    "    plt.savefig('BusR5heatmap.png', dpi=300, bbox_inches='tight')\n",
    "    plt.show()"
   ]
  },
  {
   "cell_type": "code",
   "execution_count": 19,
   "id": "8a46ab73",
   "metadata": {},
   "outputs": [
    {
     "name": "stdout",
     "output_type": "stream",
     "text": [
      "      period  time_diff      day\n",
      "0  Afternoon  16.777778  Weekday\n",
      "1    Evening  14.475556  Weekday\n",
      "2    Morning  13.292857  Weekday\n"
     ]
    },
    {
     "data": {
      "image/png": "[encoded data removed]",
      "text/plain": [
       "<Figure size 1000x700 with 2 Axes>"
      ]
     },
     "metadata": {},
     "output_type": "display_data"
    }
   ],
   "source": [
    "main()"
   ]
  }
 ],
 "metadata": {
  "kernelspec": {
   "display_name": "Python 3 (ipykernel)",
   "language": "python",
   "name": "python3"
  },
  "language_info": {
   "codemirror_mode": {
    "name": "ipython",
    "version": 3
   },
   "file_extension": ".py",
   "mimetype": "text/x-python",
   "name": "python",
   "nbconvert_exporter": "python",
   "pygments_lexer": "ipython3",
   "version": "3.11.5"
  }
 },
 "nbformat": 4,
 "nbformat_minor": 5
}
