{
 "cells": [
  {
   "cell_type": "code",
   "execution_count": 1,
   "id": "e3dea121",
   "metadata": {},
   "outputs": [],
   "source": [
    "# How often is Bus 145 late to get to SFU transportation 3 and vice versa?\n",
    "# Steps:\n",
    "# 1 Identify Route ID for Bus 145\n",
    "# 2 Determine Trip IDs for Both Directions\n",
    "# 3 Analyze Scheduled vs. Actual Times"
   ]
  },
  {
   "cell_type": "code",
   "execution_count": 2,
   "id": "942472b2",
   "metadata": {},
   "outputs": [],
   "source": [
    "import pandas as pd"
   ]
  },
  {
   "cell_type": "code",
   "execution_count": 3,
   "id": "a8f22286",
   "metadata": {},
   "outputs": [],
   "source": [
    "def routeID():\n",
    "    # Load the routes.txt file\n",
    "    routes_df = pd.read_csv('GTFS-Static-Data/routes.txt')\n",
    "\n",
    "    # Search for Bus 145 in either the route_short_name or route_long_name columns\n",
    "    bus_145_filter = routes_df['route_short_name'].str.contains('145', na=False) | routes_df['route_long_name'].str.contains('145', na=False)\n",
    "\n",
    "    # Filter for rows that mention '145', which might indicate Bus 145's route\n",
    "    bus_145_routes = routes_df[bus_145_filter]\n",
    "    bus_145_id = bus_145_routes['route_id'].iloc[0]\n",
    "    \n",
    "    # Display the filtered DataFrame to identify the Route ID(s) for Bus 145\n",
    "#     print(bus_145_routes[['route_id', 'route_short_name', 'route_long_name']])\n",
    "    return bus_145_id"
   ]
  },
  {
   "cell_type": "code",
   "execution_count": 4,
   "id": "7965b63f",
   "metadata": {},
   "outputs": [],
   "source": [
    "def tripID(route_id):\n",
    "    # Load the trips.txt file\n",
    "    trips_df = pd.read_csv('GTFS-Static-Data/trips.txt')\n",
    "\n",
    "    # Filter for trips that belong to the given route ID\n",
    "    bus_145_trips = trips_df[trips_df['route_id'] == route_id]\n",
    "\n",
    "    # Separate the trips by direction\n",
    "    trips_direction_0 = bus_145_trips[bus_145_trips['direction_id'] == 0]['trip_id'].tolist()\n",
    "    trips_direction_1 = bus_145_trips[bus_145_trips['direction_id'] == 1]['trip_id'].tolist()\n",
    "\n",
    "    return trips_direction_0, trips_direction_1"
   ]
  },
  {
   "cell_type": "code",
   "execution_count": 5,
   "id": "963a08a6",
   "metadata": {},
   "outputs": [],
   "source": [
    "def stopID(stop_name):\n",
    "    # Load the stops.txt file\n",
    "    stops_df = pd.read_csv('GTFS-Static-Data/stops.txt')\n",
    "\n",
    "    # Filter stops containing the specified keywords in their names\n",
    "    filtered_stops = stops_df[stops_df['stop_name'].str.contains('|'.join(stop_name), case=False, na=False)]\n",
    "\n",
    "    return filtered_stops[['stop_id', 'stop_name']]"
   ]
  },
  {
   "cell_type": "code",
   "execution_count": 6,
   "id": "8d799cd7",
   "metadata": {},
   "outputs": [],
   "source": [
    "def getScheduledTimes(trip_ids, origin_stop_id, destination_stop_id):\n",
    "    # Load the stop_times.txt file\n",
    "    stop_times_df = pd.read_csv('GTFS-Static-Data/stop_times.txt')\n",
    "\n",
    "    # Filter for the relevant trips\n",
    "    relevant_trips = stop_times_df[stop_times_df['trip_id'].isin(trip_ids)]\n",
    "\n",
    "    # Further filter for only the origin and destination stops\n",
    "    origin_times = relevant_trips[relevant_trips['stop_id'] == origin_stop_id]\n",
    "    destination_times = relevant_trips[relevant_trips['stop_id'] == destination_stop_id]\n",
    "\n",
    "    # Create a DataFrame to hold the scheduled times for each trip at the origin and destination\n",
    "    scheduled_times = pd.DataFrame({\n",
    "        'trip_id': trip_ids,\n",
    "        'origin_scheduled_time': [origin_times[origin_times['trip_id'] == trip_id]['arrival_time'].values[0] for trip_id in trip_ids],\n",
    "        'destination_scheduled_time': [destination_times[destination_times['trip_id'] == trip_id]['arrival_time'].values[0] for trip_id in trip_ids]\n",
    "    })\n",
    "\n",
    "    return scheduled_times"
   ]
  },
  {
   "cell_type": "code",
   "execution_count": 7,
   "id": "17554be1",
   "metadata": {},
   "outputs": [],
   "source": [
    "def main():\n",
    "    route_id_for_145 = routeID()\n",
    "    # trip_dir 0 = Pro to SFu, trip_dir 1 = SFU to Pro\n",
    "    trips_direction_0, trips_direction_1 = tripID(route_id_for_145)\n",
    "    \n",
    "#     print(f\"Trip IDs for Bus 145 from Production Way to SFU (Direction 0): {trips_direction_0}\")\n",
    "#     print(f\"Trip IDs for Bus 145 from SFU to Production Way (Direction 1): {trips_direction_1}\")\n",
    "    # Find stop IDs for Production Way\n",
    "    \n",
    "    production_way_stop = stopID(['Production Way Station @ Bay 1'])\n",
    "    production_way_stop_id = production_way_stop['stop_id'].iloc[0]\n",
    "    print(production_way_stop)\n",
    "    print(f\"Production way stop id: {production_way_stop_id}\")\n",
    "\n",
    "    # Find stop IDs for SFU & production way\n",
    "    sfu_stop = stopID(['SFU Transit Exchange @ Bay 1'])\n",
    "    sfu_stop_id = sfu_stop['stop_id'].iloc[0]\n",
    "#     print(sfu_stop)\n",
    "#     print(f\"SFU Stop id: {sfu_stop_id}\")\n",
    "    pro_to_sfu_scheduled_times = getScheduledTimes(trips_direction_0, production_way_stop_id, sfu_stop_id)\n",
    "    sfu_to_pro_scheduled_times = getScheduledTimes(trips_direction_1, sfu_stop_id, production_way_stop_id)\n",
    "\n",
    "    pro_to_sfu_scheduled_times.to_csv(\"Production Way Bay 1 to SFU Bay 1 scheduled time.csv\", index=False)\n",
    "    sfu_to_pro_scheduled_times.to_csv(\"SFU Bay 1 to Production Way Bay 1 scheduled time.csv\", index=False)\n",
    "    \n",
    "#     print(pro_to_sfu_scheduled_times)\n",
    "#     print(sfu_to_pro_scheduled_times)"
   ]
  },
  {
   "cell_type": "code",
   "execution_count": 8,
   "id": "2112e4f1",
   "metadata": {},
   "outputs": [
    {
     "ename": "FileNotFoundError",
     "evalue": "[Errno 2] No such file or directory: 'google_transit/routes.txt'",
     "output_type": "error",
     "traceback": [
      "\u001b[0;31m---------------------------------------------------------------------------\u001b[0m",
      "\u001b[0;31mFileNotFoundError\u001b[0m                         Traceback (most recent call last)",
      "Cell \u001b[0;32mIn[8], line 1\u001b[0m\n\u001b[0;32m----> 1\u001b[0m main()\n",
      "Cell \u001b[0;32mIn[7], line 2\u001b[0m, in \u001b[0;36mmain\u001b[0;34m()\u001b[0m\n\u001b[1;32m      1\u001b[0m \u001b[38;5;28;01mdef\u001b[39;00m \u001b[38;5;21mmain\u001b[39m():\n\u001b[0;32m----> 2\u001b[0m     route_id_for_145 \u001b[38;5;241m=\u001b[39m routeID()\n\u001b[1;32m      3\u001b[0m     \u001b[38;5;66;03m# trip_dir 0 = Pro to SFu, trip_dir 1 = SFU to Pro\u001b[39;00m\n\u001b[1;32m      4\u001b[0m     trips_direction_0, trips_direction_1 \u001b[38;5;241m=\u001b[39m tripID(route_id_for_145)\n",
      "Cell \u001b[0;32mIn[3], line 3\u001b[0m, in \u001b[0;36mrouteID\u001b[0;34m()\u001b[0m\n\u001b[1;32m      1\u001b[0m \u001b[38;5;28;01mdef\u001b[39;00m \u001b[38;5;21mrouteID\u001b[39m():\n\u001b[1;32m      2\u001b[0m     \u001b[38;5;66;03m# Load the routes.txt file\u001b[39;00m\n\u001b[0;32m----> 3\u001b[0m     routes_df \u001b[38;5;241m=\u001b[39m pd\u001b[38;5;241m.\u001b[39mread_csv(\u001b[38;5;124m'\u001b[39m\u001b[38;5;124mgoogle_transit/routes.txt\u001b[39m\u001b[38;5;124m'\u001b[39m)\n\u001b[1;32m      5\u001b[0m     \u001b[38;5;66;03m# Search for Bus 145 in either the route_short_name or route_long_name columns\u001b[39;00m\n\u001b[1;32m      6\u001b[0m     bus_145_filter \u001b[38;5;241m=\u001b[39m routes_df[\u001b[38;5;124m'\u001b[39m\u001b[38;5;124mroute_short_name\u001b[39m\u001b[38;5;124m'\u001b[39m]\u001b[38;5;241m.\u001b[39mstr\u001b[38;5;241m.\u001b[39mcontains(\u001b[38;5;124m'\u001b[39m\u001b[38;5;124m145\u001b[39m\u001b[38;5;124m'\u001b[39m, na\u001b[38;5;241m=\u001b[39m\u001b[38;5;28;01mFalse\u001b[39;00m) \u001b[38;5;241m|\u001b[39m routes_df[\u001b[38;5;124m'\u001b[39m\u001b[38;5;124mroute_long_name\u001b[39m\u001b[38;5;124m'\u001b[39m]\u001b[38;5;241m.\u001b[39mstr\u001b[38;5;241m.\u001b[39mcontains(\u001b[38;5;124m'\u001b[39m\u001b[38;5;124m145\u001b[39m\u001b[38;5;124m'\u001b[39m, na\u001b[38;5;241m=\u001b[39m\u001b[38;5;28;01mFalse\u001b[39;00m)\n",
      "File \u001b[0;32m~/anaconda3/lib/python3.11/site-packages/pandas/io/parsers/readers.py:912\u001b[0m, in \u001b[0;36mread_csv\u001b[0;34m(filepath_or_buffer, sep, delimiter, header, names, index_col, usecols, dtype, engine, converters, true_values, false_values, skipinitialspace, skiprows, skipfooter, nrows, na_values, keep_default_na, na_filter, verbose, skip_blank_lines, parse_dates, infer_datetime_format, keep_date_col, date_parser, date_format, dayfirst, cache_dates, iterator, chunksize, compression, thousands, decimal, lineterminator, quotechar, quoting, doublequote, escapechar, comment, encoding, encoding_errors, dialect, on_bad_lines, delim_whitespace, low_memory, memory_map, float_precision, storage_options, dtype_backend)\u001b[0m\n\u001b[1;32m    899\u001b[0m kwds_defaults \u001b[38;5;241m=\u001b[39m _refine_defaults_read(\n\u001b[1;32m    900\u001b[0m     dialect,\n\u001b[1;32m    901\u001b[0m     delimiter,\n\u001b[0;32m   (...)\u001b[0m\n\u001b[1;32m    908\u001b[0m     dtype_backend\u001b[38;5;241m=\u001b[39mdtype_backend,\n\u001b[1;32m    909\u001b[0m )\n\u001b[1;32m    910\u001b[0m kwds\u001b[38;5;241m.\u001b[39mupdate(kwds_defaults)\n\u001b[0;32m--> 912\u001b[0m \u001b[38;5;28;01mreturn\u001b[39;00m _read(filepath_or_buffer, kwds)\n",
      "File \u001b[0;32m~/anaconda3/lib/python3.11/site-packages/pandas/io/parsers/readers.py:577\u001b[0m, in \u001b[0;36m_read\u001b[0;34m(filepath_or_buffer, kwds)\u001b[0m\n\u001b[1;32m    574\u001b[0m _validate_names(kwds\u001b[38;5;241m.\u001b[39mget(\u001b[38;5;124m\"\u001b[39m\u001b[38;5;124mnames\u001b[39m\u001b[38;5;124m\"\u001b[39m, \u001b[38;5;28;01mNone\u001b[39;00m))\n\u001b[1;32m    576\u001b[0m \u001b[38;5;66;03m# Create the parser.\u001b[39;00m\n\u001b[0;32m--> 577\u001b[0m parser \u001b[38;5;241m=\u001b[39m TextFileReader(filepath_or_buffer, \u001b[38;5;241m*\u001b[39m\u001b[38;5;241m*\u001b[39mkwds)\n\u001b[1;32m    579\u001b[0m \u001b[38;5;28;01mif\u001b[39;00m chunksize \u001b[38;5;129;01mor\u001b[39;00m iterator:\n\u001b[1;32m    580\u001b[0m     \u001b[38;5;28;01mreturn\u001b[39;00m parser\n",
      "File \u001b[0;32m~/anaconda3/lib/python3.11/site-packages/pandas/io/parsers/readers.py:1407\u001b[0m, in \u001b[0;36mTextFileReader.__init__\u001b[0;34m(self, f, engine, **kwds)\u001b[0m\n\u001b[1;32m   1404\u001b[0m     \u001b[38;5;28mself\u001b[39m\u001b[38;5;241m.\u001b[39moptions[\u001b[38;5;124m\"\u001b[39m\u001b[38;5;124mhas_index_names\u001b[39m\u001b[38;5;124m\"\u001b[39m] \u001b[38;5;241m=\u001b[39m kwds[\u001b[38;5;124m\"\u001b[39m\u001b[38;5;124mhas_index_names\u001b[39m\u001b[38;5;124m\"\u001b[39m]\n\u001b[1;32m   1406\u001b[0m \u001b[38;5;28mself\u001b[39m\u001b[38;5;241m.\u001b[39mhandles: IOHandles \u001b[38;5;241m|\u001b[39m \u001b[38;5;28;01mNone\u001b[39;00m \u001b[38;5;241m=\u001b[39m \u001b[38;5;28;01mNone\u001b[39;00m\n\u001b[0;32m-> 1407\u001b[0m \u001b[38;5;28mself\u001b[39m\u001b[38;5;241m.\u001b[39m_engine \u001b[38;5;241m=\u001b[39m \u001b[38;5;28mself\u001b[39m\u001b[38;5;241m.\u001b[39m_make_engine(f, \u001b[38;5;28mself\u001b[39m\u001b[38;5;241m.\u001b[39mengine)\n",
      "File \u001b[0;32m~/anaconda3/lib/python3.11/site-packages/pandas/io/parsers/readers.py:1661\u001b[0m, in \u001b[0;36mTextFileReader._make_engine\u001b[0;34m(self, f, engine)\u001b[0m\n\u001b[1;32m   1659\u001b[0m     \u001b[38;5;28;01mif\u001b[39;00m \u001b[38;5;124m\"\u001b[39m\u001b[38;5;124mb\u001b[39m\u001b[38;5;124m\"\u001b[39m \u001b[38;5;129;01mnot\u001b[39;00m \u001b[38;5;129;01min\u001b[39;00m mode:\n\u001b[1;32m   1660\u001b[0m         mode \u001b[38;5;241m+\u001b[39m\u001b[38;5;241m=\u001b[39m \u001b[38;5;124m\"\u001b[39m\u001b[38;5;124mb\u001b[39m\u001b[38;5;124m\"\u001b[39m\n\u001b[0;32m-> 1661\u001b[0m \u001b[38;5;28mself\u001b[39m\u001b[38;5;241m.\u001b[39mhandles \u001b[38;5;241m=\u001b[39m get_handle(\n\u001b[1;32m   1662\u001b[0m     f,\n\u001b[1;32m   1663\u001b[0m     mode,\n\u001b[1;32m   1664\u001b[0m     encoding\u001b[38;5;241m=\u001b[39m\u001b[38;5;28mself\u001b[39m\u001b[38;5;241m.\u001b[39moptions\u001b[38;5;241m.\u001b[39mget(\u001b[38;5;124m\"\u001b[39m\u001b[38;5;124mencoding\u001b[39m\u001b[38;5;124m\"\u001b[39m, \u001b[38;5;28;01mNone\u001b[39;00m),\n\u001b[1;32m   1665\u001b[0m     compression\u001b[38;5;241m=\u001b[39m\u001b[38;5;28mself\u001b[39m\u001b[38;5;241m.\u001b[39moptions\u001b[38;5;241m.\u001b[39mget(\u001b[38;5;124m\"\u001b[39m\u001b[38;5;124mcompression\u001b[39m\u001b[38;5;124m\"\u001b[39m, \u001b[38;5;28;01mNone\u001b[39;00m),\n\u001b[1;32m   1666\u001b[0m     memory_map\u001b[38;5;241m=\u001b[39m\u001b[38;5;28mself\u001b[39m\u001b[38;5;241m.\u001b[39moptions\u001b[38;5;241m.\u001b[39mget(\u001b[38;5;124m\"\u001b[39m\u001b[38;5;124mmemory_map\u001b[39m\u001b[38;5;124m\"\u001b[39m, \u001b[38;5;28;01mFalse\u001b[39;00m),\n\u001b[1;32m   1667\u001b[0m     is_text\u001b[38;5;241m=\u001b[39mis_text,\n\u001b[1;32m   1668\u001b[0m     errors\u001b[38;5;241m=\u001b[39m\u001b[38;5;28mself\u001b[39m\u001b[38;5;241m.\u001b[39moptions\u001b[38;5;241m.\u001b[39mget(\u001b[38;5;124m\"\u001b[39m\u001b[38;5;124mencoding_errors\u001b[39m\u001b[38;5;124m\"\u001b[39m, \u001b[38;5;124m\"\u001b[39m\u001b[38;5;124mstrict\u001b[39m\u001b[38;5;124m\"\u001b[39m),\n\u001b[1;32m   1669\u001b[0m     storage_options\u001b[38;5;241m=\u001b[39m\u001b[38;5;28mself\u001b[39m\u001b[38;5;241m.\u001b[39moptions\u001b[38;5;241m.\u001b[39mget(\u001b[38;5;124m\"\u001b[39m\u001b[38;5;124mstorage_options\u001b[39m\u001b[38;5;124m\"\u001b[39m, \u001b[38;5;28;01mNone\u001b[39;00m),\n\u001b[1;32m   1670\u001b[0m )\n\u001b[1;32m   1671\u001b[0m \u001b[38;5;28;01massert\u001b[39;00m \u001b[38;5;28mself\u001b[39m\u001b[38;5;241m.\u001b[39mhandles \u001b[38;5;129;01mis\u001b[39;00m \u001b[38;5;129;01mnot\u001b[39;00m \u001b[38;5;28;01mNone\u001b[39;00m\n\u001b[1;32m   1672\u001b[0m f \u001b[38;5;241m=\u001b[39m \u001b[38;5;28mself\u001b[39m\u001b[38;5;241m.\u001b[39mhandles\u001b[38;5;241m.\u001b[39mhandle\n",
      "File \u001b[0;32m~/anaconda3/lib/python3.11/site-packages/pandas/io/common.py:859\u001b[0m, in \u001b[0;36mget_handle\u001b[0;34m(path_or_buf, mode, encoding, compression, memory_map, is_text, errors, storage_options)\u001b[0m\n\u001b[1;32m    854\u001b[0m \u001b[38;5;28;01melif\u001b[39;00m \u001b[38;5;28misinstance\u001b[39m(handle, \u001b[38;5;28mstr\u001b[39m):\n\u001b[1;32m    855\u001b[0m     \u001b[38;5;66;03m# Check whether the filename is to be opened in binary mode.\u001b[39;00m\n\u001b[1;32m    856\u001b[0m     \u001b[38;5;66;03m# Binary mode does not support 'encoding' and 'newline'.\u001b[39;00m\n\u001b[1;32m    857\u001b[0m     \u001b[38;5;28;01mif\u001b[39;00m ioargs\u001b[38;5;241m.\u001b[39mencoding \u001b[38;5;129;01mand\u001b[39;00m \u001b[38;5;124m\"\u001b[39m\u001b[38;5;124mb\u001b[39m\u001b[38;5;124m\"\u001b[39m \u001b[38;5;129;01mnot\u001b[39;00m \u001b[38;5;129;01min\u001b[39;00m ioargs\u001b[38;5;241m.\u001b[39mmode:\n\u001b[1;32m    858\u001b[0m         \u001b[38;5;66;03m# Encoding\u001b[39;00m\n\u001b[0;32m--> 859\u001b[0m         handle \u001b[38;5;241m=\u001b[39m \u001b[38;5;28mopen\u001b[39m(\n\u001b[1;32m    860\u001b[0m             handle,\n\u001b[1;32m    861\u001b[0m             ioargs\u001b[38;5;241m.\u001b[39mmode,\n\u001b[1;32m    862\u001b[0m             encoding\u001b[38;5;241m=\u001b[39mioargs\u001b[38;5;241m.\u001b[39mencoding,\n\u001b[1;32m    863\u001b[0m             errors\u001b[38;5;241m=\u001b[39merrors,\n\u001b[1;32m    864\u001b[0m             newline\u001b[38;5;241m=\u001b[39m\u001b[38;5;124m\"\u001b[39m\u001b[38;5;124m\"\u001b[39m,\n\u001b[1;32m    865\u001b[0m         )\n\u001b[1;32m    866\u001b[0m     \u001b[38;5;28;01melse\u001b[39;00m:\n\u001b[1;32m    867\u001b[0m         \u001b[38;5;66;03m# Binary mode\u001b[39;00m\n\u001b[1;32m    868\u001b[0m         handle \u001b[38;5;241m=\u001b[39m \u001b[38;5;28mopen\u001b[39m(handle, ioargs\u001b[38;5;241m.\u001b[39mmode)\n",
      "\u001b[0;31mFileNotFoundError\u001b[0m: [Errno 2] No such file or directory: 'google_transit/routes.txt'"
     ]
    }
   ],
   "source": [
    "main()"
   ]
  }
 ],
 "metadata": {
  "kernelspec": {
   "display_name": "Python 3 (ipykernel)",
   "language": "python",
   "name": "python3"
  },
  "language_info": {
   "codemirror_mode": {
    "name": "ipython",
    "version": 3
   },
   "file_extension": ".py",
   "mimetype": "text/x-python",
   "name": "python",
   "nbconvert_exporter": "python",
   "pygments_lexer": "ipython3",
   "version": "3.11.5"
  }
 },
 "nbformat": 4,
 "nbformat_minor": 5
}
