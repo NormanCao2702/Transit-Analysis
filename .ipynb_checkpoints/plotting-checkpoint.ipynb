{
 "cells": [
  {
   "cell_type": "code",
   "execution_count": 1,
   "id": "2a312a1a",
   "metadata": {},
   "outputs": [],
   "source": [
    "import seaborn as sns\n",
    "import matplotlib.pyplot as plt\n",
    "import pandas as pd"
   ]
  },
  {
   "cell_type": "code",
   "execution_count": 2,
   "id": "df8d7fac",
   "metadata": {},
   "outputs": [],
   "source": [
    "def cluster_map_145_weekday(df):\n",
    "    cluster_names = {\n",
    "        0: 'Morning',\n",
    "        1: 'Late Afternoon',\n",
    "        2: 'Night',\n",
    "        3: 'Midday',\n",
    "        4: 'Overnight'  \n",
    "    }\n",
    "    # Apply the mapping to create a new column with descriptive labels\n",
    "    df['period'] = df['cluster'].map(cluster_names)"
   ]
  },
  {
   "cell_type": "code",
   "execution_count": 3,
   "id": "01147b3c",
   "metadata": {},
   "outputs": [],
   "source": [
    "def cluster_map_145_sat(df):\n",
    "    cluster_names = {\n",
    "        0: 'Midday',\n",
    "        1: 'Night',\n",
    "        2: 'Morning',\n",
    "        3: 'Late Afternoon',\n",
    "        4: 'Overnight'  \n",
    "    }\n",
    "    df['period'] = df['cluster'].map(cluster_names)"
   ]
  },
  {
   "cell_type": "code",
   "execution_count": 4,
   "id": "4522a007",
   "metadata": {},
   "outputs": [],
   "source": [
    "def cluster_map_145_sun(df):\n",
    "    cluster_names = {\n",
    "        0: 'Night',\n",
    "        1: 'Midday',\n",
    "        2: 'Morning',\n",
    "        3: 'Late Afternoon',\n",
    "        4: 'Overnight'  \n",
    "    }\n",
    "\n",
    "    df['period'] = df['cluster'].map(cluster_names)"
   ]
  },
  {
   "cell_type": "code",
   "execution_count": 5,
   "id": "555fcd71",
   "metadata": {},
   "outputs": [],
   "source": [
    "def cluster_map_144_weekday(df):\n",
    "    cluster_names = {\n",
    "        0: 'Midday',\n",
    "        1: 'Night',\n",
    "        2: 'Morning',\n",
    "        3: 'Late Afternoon',\n",
    "        4: 'Overnight'  \n",
    "    }\n",
    "    # Apply the mapping to create a new column with descriptive labels\n",
    "    df['period'] = df['cluster'].map(cluster_names)"
   ]
  },
  {
   "cell_type": "code",
   "execution_count": 6,
   "id": "5ccb4734",
   "metadata": {},
   "outputs": [],
   "source": [
    "def cluster_map_144_sat(df):\n",
    "    cluster_names = {\n",
    "        0: 'Midday',\n",
    "        1: 'Night',\n",
    "        2: 'Morning',\n",
    "        3: 'Late Afternoon',\n",
    "        4: 'Overnight'  \n",
    "    }\n",
    "    # Apply the mapping to create a new column with descriptive labels\n",
    "    df['period'] = df['cluster'].map(cluster_names)"
   ]
  },
  {
   "cell_type": "code",
   "execution_count": 7,
   "id": "a18863e0",
   "metadata": {},
   "outputs": [],
   "source": [
    "def cluster_map_144_sun(df):\n",
    "    cluster_names = {\n",
    "        0: 'Midday',\n",
    "        1: 'Night',\n",
    "        2: 'Morning',\n",
    "        3: 'Overnight',\n",
    "        4: 'Late Afternoon'  \n",
    "    }\n",
    "    # Apply the mapping to create a new column with descriptive labels\n",
    "    df['period'] = df['cluster'].map(cluster_names)"
   ]
  },
  {
   "cell_type": "code",
   "execution_count": 8,
   "id": "44b1bbf2",
   "metadata": {},
   "outputs": [],
   "source": [
    "def cluster_map_143_weekday(df):\n",
    "    cluster_names = {\n",
    "        0: 'Late Afternoon',\n",
    "        1: 'Morning',\n",
    "        2: 'Midday',\n",
    "    }\n",
    "    # Apply the mapping to create a new column with descriptive labels\n",
    "    df['period'] = df['cluster'].map(cluster_names)"
   ]
  },
  {
   "cell_type": "code",
   "execution_count": 9,
   "id": "17e85e8d",
   "metadata": {},
   "outputs": [],
   "source": [
    "def cluster_map_R5_weekday(df):\n",
    "    cluster_names = {\n",
    "        0: 'Morning',\n",
    "        1: 'Night',\n",
    "        2: 'Midday',\n",
    "        3: 'Overnight',\n",
    "        4: 'Late Afternoon'  \n",
    "    }\n",
    "    # Apply the mapping to create a new column with descriptive labels\n",
    "    df['period'] = df['cluster'].map(cluster_names)"
   ]
  },
  {
   "cell_type": "code",
   "execution_count": 10,
   "id": "65fb03d4",
   "metadata": {},
   "outputs": [],
   "source": [
    "def cluster_map_R5_sat(df):\n",
    "    cluster_names = {\n",
    "        0: 'Midday',\n",
    "        1: 'Morning',\n",
    "        2: 'Night',\n",
    "        3: 'Overnight',\n",
    "        4: 'Late Afternoon'  \n",
    "    }\n",
    "    # Apply the mapping to create a new column with descriptive labels\n",
    "    df['period'] = df['cluster'].map(cluster_names)"
   ]
  },
  {
   "cell_type": "code",
   "execution_count": 11,
   "id": "1d468954",
   "metadata": {},
   "outputs": [],
   "source": [
    "def cluster_map_R5_sun(df):\n",
    "    cluster_names = {\n",
    "        0: 'Midday',\n",
    "        1: 'Night',\n",
    "        2: 'Overnight',\n",
    "        3: 'Late Afternoon',\n",
    "        4: 'Morning'  \n",
    "    }\n",
    "    # Apply the mapping to create a new column with descriptive labels\n",
    "    df['period'] = df['cluster'].map(cluster_names)"
   ]
  },
  {
   "cell_type": "code",
   "execution_count": 12,
   "id": "782bc366",
   "metadata": {},
   "outputs": [],
   "source": [
    "def main():  \n",
    "    # Filter out the rows where time_diff is 0 before grouping\n",
    "#     weekday = pd.read_csv('bus_145_weekday_clustering.csv',index_col=0)\n",
    "#     sat = pd.read_csv('bus_145_saturday_clustering.csv',index_col=0)\n",
    "#     sun = pd.read_csv('bus_145_sunday_clustering.csv',index_col=0)\n",
    "\n",
    "#     weekday = pd.read_csv('bus_144_weekday_clustering.csv',index_col=0)\n",
    "#     sat = pd.read_csv('bus_144_saturday_clustering.csv',index_col=0)\n",
    "#     sun = pd.read_csv('bus_144_sunday_clustering.csv',index_col=0)\n",
    "\n",
    "#     weekday = pd.read_csv('bus_143_weekday_clustering.csv',index_col=0)\n",
    "    \n",
    "    weekday = pd.read_csv('bus_R5_weekday_clustering.csv',index_col=0)\n",
    "    sat = pd.read_csv('bus_R5_saturday_clustering.csv',index_col=0)\n",
    "    sun = pd.read_csv('bus_R5_sunday_clustering.csv',index_col=0)\n",
    "\n",
    "#     cluster_map_145_weekday(weekday)\n",
    "#     cluster_map_145_sat(sat)\n",
    "#     cluster_map_145_sun(sun)\n",
    "\n",
    "#     cluster_map_144_weekday(weekday)\n",
    "#     cluster_map_144_sat(sat)\n",
    "#     cluster_map_144_sun(sun)\n",
    "\n",
    "#     cluster_map_143_weekday(weekday)\n",
    "\n",
    "    cluster_map_R5_weekday(weekday)\n",
    "    cluster_map_R5_sat(sat)\n",
    "    cluster_map_R5_sun(sun)\n",
    "    \n",
    "#     non_zero_time_diff_sat = sat[sat['time_diff'] != 0]\n",
    "#     period_avg_sat = non_zero_time_diff_sat.groupby('period')['time_diff'].mean().reset_index()\n",
    "#     period_avg_sat['day'] = 'Saturday'\n",
    "#     print(period_avg_sat)\n",
    "    \n",
    "    non_zero_time_diff_weekday = weekday[weekday['time_diff'] != 0]\n",
    "    period_avg_weekday = non_zero_time_diff_weekday.groupby('period')['time_diff'].mean().reset_index()\n",
    "    period_avg_weekday['day'] = 'Weekday'\n",
    "#     print(period_avg_weekday)\n",
    "    \n",
    "#     non_zero_time_diff_sun = sun[sun['time_diff'] != 0]\n",
    "#     period_avg_sun = non_zero_time_diff_sun.groupby('period')['time_diff'].mean().reset_index()\n",
    "#     period_avg_sun['day'] = 'Sunday'\n",
    "#     print(period_avg_sun)\n",
    "    \n",
    "    period_order = ['Morning', 'Midday', 'Late Afternoon', 'Night','Overnight']\n",
    "#     period_order = ['Morning', 'Midday', 'Late Afternoon']\n",
    "    day_order = ['Weekday', 'Saturday', 'Sunday']\n",
    "#     day_order = ['Weekday']\n",
    "    \n",
    "    # Combine all DataFrames into one\n",
    "    df_all_days = pd.concat([period_avg_weekday, period_avg_sat, period_avg_sun])\n",
    "#     df_all_days = pd.concat([period_avg_weekday])\n",
    "    \n",
    "    # Convert the 'period' column to a categorical type with the specified order\n",
    "    df_all_days['period'] = pd.Categorical(df_all_days['period'], categories=period_order, ordered=True)\n",
    "    \n",
    "    # Pivot the combined DataFrame to create a 2D data structure for the heatmap\n",
    "    df_pivot = df_all_days.pivot(index='period', columns='day', values='time_diff')[day_order]\n",
    "\n",
    "    # Set up the matplotlib figure\n",
    "    plt.figure(figsize=(10, 7))\n",
    "\n",
    "    # Draw the heatmap\n",
    "    ax = sns.heatmap(df_pivot, annot=True, fmt=\".2f\", linewidths=.5, cmap='coolwarm')\n",
    "\n",
    "    # Set the aspect of the plot to be equal, for square cells\n",
    "    ax.set_aspect(\"equal\")\n",
    "\n",
    "    # Rotate the labels on y-axis\n",
    "    plt.yticks(rotation=0)\n",
    "\n",
    "    plt.title('Average Time Difference Heatmap by Period and Day for Bus R5 get to SFU Bay 2')\n",
    "    # Save the plot to a file\n",
    "    plt.savefig('BusR5heatmap.png', dpi=300, bbox_inches='tight')\n",
    "#     plt.show()"
   ]
  },
  {
   "cell_type": "code",
   "execution_count": 13,
   "id": "7fc9630c",
   "metadata": {},
   "outputs": [
    {
     "ename": "ValueError",
     "evalue": "Index contains duplicate entries, cannot reshape",
     "output_type": "error",
     "traceback": [
      "\u001b[0;31m---------------------------------------------------------------------------\u001b[0m",
      "\u001b[0;31mValueError\u001b[0m                                Traceback (most recent call last)",
      "Cell \u001b[0;32mIn[13], line 1\u001b[0m\n\u001b[0;32m----> 1\u001b[0m main()\n",
      "Cell \u001b[0;32mIn[12], line 59\u001b[0m, in \u001b[0;36mmain\u001b[0;34m()\u001b[0m\n\u001b[1;32m     56\u001b[0m df_all_days[\u001b[38;5;124m'\u001b[39m\u001b[38;5;124mperiod\u001b[39m\u001b[38;5;124m'\u001b[39m] \u001b[38;5;241m=\u001b[39m pd\u001b[38;5;241m.\u001b[39mCategorical(df_all_days[\u001b[38;5;124m'\u001b[39m\u001b[38;5;124mperiod\u001b[39m\u001b[38;5;124m'\u001b[39m], categories\u001b[38;5;241m=\u001b[39mperiod_order, ordered\u001b[38;5;241m=\u001b[39m\u001b[38;5;28;01mTrue\u001b[39;00m)\n\u001b[1;32m     58\u001b[0m \u001b[38;5;66;03m# Pivot the combined DataFrame to create a 2D data structure for the heatmap\u001b[39;00m\n\u001b[0;32m---> 59\u001b[0m df_pivot \u001b[38;5;241m=\u001b[39m df_all_days\u001b[38;5;241m.\u001b[39mpivot(index\u001b[38;5;241m=\u001b[39m\u001b[38;5;124m'\u001b[39m\u001b[38;5;124mperiod\u001b[39m\u001b[38;5;124m'\u001b[39m, columns\u001b[38;5;241m=\u001b[39m\u001b[38;5;124m'\u001b[39m\u001b[38;5;124mday\u001b[39m\u001b[38;5;124m'\u001b[39m, values\u001b[38;5;241m=\u001b[39m\u001b[38;5;124m'\u001b[39m\u001b[38;5;124mtime_diff\u001b[39m\u001b[38;5;124m'\u001b[39m)[day_order]\n\u001b[1;32m     61\u001b[0m \u001b[38;5;66;03m# Set up the matplotlib figure\u001b[39;00m\n\u001b[1;32m     62\u001b[0m plt\u001b[38;5;241m.\u001b[39mfigure(figsize\u001b[38;5;241m=\u001b[39m(\u001b[38;5;241m10\u001b[39m, \u001b[38;5;241m7\u001b[39m))\n",
      "File \u001b[0;32m~/anaconda3/lib/python3.11/site-packages/pandas/core/frame.py:8414\u001b[0m, in \u001b[0;36mDataFrame.pivot\u001b[0;34m(self, columns, index, values)\u001b[0m\n\u001b[1;32m   8409\u001b[0m \u001b[38;5;129m@Substitution\u001b[39m(\u001b[38;5;124m\"\u001b[39m\u001b[38;5;124m\"\u001b[39m)\n\u001b[1;32m   8410\u001b[0m \u001b[38;5;129m@Appender\u001b[39m(_shared_docs[\u001b[38;5;124m\"\u001b[39m\u001b[38;5;124mpivot\u001b[39m\u001b[38;5;124m\"\u001b[39m])\n\u001b[1;32m   8411\u001b[0m \u001b[38;5;28;01mdef\u001b[39;00m \u001b[38;5;21mpivot\u001b[39m(\u001b[38;5;28mself\u001b[39m, \u001b[38;5;241m*\u001b[39m, columns, index\u001b[38;5;241m=\u001b[39mlib\u001b[38;5;241m.\u001b[39mNoDefault, values\u001b[38;5;241m=\u001b[39mlib\u001b[38;5;241m.\u001b[39mNoDefault) \u001b[38;5;241m-\u001b[39m\u001b[38;5;241m>\u001b[39m DataFrame:\n\u001b[1;32m   8412\u001b[0m     \u001b[38;5;28;01mfrom\u001b[39;00m \u001b[38;5;21;01mpandas\u001b[39;00m\u001b[38;5;21;01m.\u001b[39;00m\u001b[38;5;21;01mcore\u001b[39;00m\u001b[38;5;21;01m.\u001b[39;00m\u001b[38;5;21;01mreshape\u001b[39;00m\u001b[38;5;21;01m.\u001b[39;00m\u001b[38;5;21;01mpivot\u001b[39;00m \u001b[38;5;28;01mimport\u001b[39;00m pivot\n\u001b[0;32m-> 8414\u001b[0m     \u001b[38;5;28;01mreturn\u001b[39;00m pivot(\u001b[38;5;28mself\u001b[39m, index\u001b[38;5;241m=\u001b[39mindex, columns\u001b[38;5;241m=\u001b[39mcolumns, values\u001b[38;5;241m=\u001b[39mvalues)\n",
      "File \u001b[0;32m~/anaconda3/lib/python3.11/site-packages/pandas/core/reshape/pivot.py:557\u001b[0m, in \u001b[0;36mpivot\u001b[0;34m(data, columns, index, values)\u001b[0m\n\u001b[1;32m    553\u001b[0m         indexed \u001b[38;5;241m=\u001b[39m data\u001b[38;5;241m.\u001b[39m_constructor_sliced(data[values]\u001b[38;5;241m.\u001b[39m_values, index\u001b[38;5;241m=\u001b[39mmultiindex)\n\u001b[1;32m    554\u001b[0m \u001b[38;5;66;03m# error: Argument 1 to \"unstack\" of \"DataFrame\" has incompatible type \"Union\u001b[39;00m\n\u001b[1;32m    555\u001b[0m \u001b[38;5;66;03m# [List[Any], ExtensionArray, ndarray[Any, Any], Index, Series]\"; expected\u001b[39;00m\n\u001b[1;32m    556\u001b[0m \u001b[38;5;66;03m# \"Hashable\"\u001b[39;00m\n\u001b[0;32m--> 557\u001b[0m result \u001b[38;5;241m=\u001b[39m indexed\u001b[38;5;241m.\u001b[39munstack(columns_listlike)  \u001b[38;5;66;03m# type: ignore[arg-type]\u001b[39;00m\n\u001b[1;32m    558\u001b[0m result\u001b[38;5;241m.\u001b[39mindex\u001b[38;5;241m.\u001b[39mnames \u001b[38;5;241m=\u001b[39m [\n\u001b[1;32m    559\u001b[0m     name \u001b[38;5;28;01mif\u001b[39;00m name \u001b[38;5;129;01mis\u001b[39;00m \u001b[38;5;129;01mnot\u001b[39;00m lib\u001b[38;5;241m.\u001b[39mNoDefault \u001b[38;5;28;01melse\u001b[39;00m \u001b[38;5;28;01mNone\u001b[39;00m \u001b[38;5;28;01mfor\u001b[39;00m name \u001b[38;5;129;01min\u001b[39;00m result\u001b[38;5;241m.\u001b[39mindex\u001b[38;5;241m.\u001b[39mnames\n\u001b[1;32m    560\u001b[0m ]\n\u001b[1;32m    562\u001b[0m \u001b[38;5;28;01mreturn\u001b[39;00m result\n",
      "File \u001b[0;32m~/anaconda3/lib/python3.11/site-packages/pandas/core/series.py:4313\u001b[0m, in \u001b[0;36mSeries.unstack\u001b[0;34m(self, level, fill_value)\u001b[0m\n\u001b[1;32m   4270\u001b[0m \u001b[38;5;250m\u001b[39m\u001b[38;5;124;03m\"\"\"\u001b[39;00m\n\u001b[1;32m   4271\u001b[0m \u001b[38;5;124;03mUnstack, also known as pivot, Series with MultiIndex to produce DataFrame.\u001b[39;00m\n\u001b[1;32m   4272\u001b[0m \n\u001b[0;32m   (...)\u001b[0m\n\u001b[1;32m   4309\u001b[0m \u001b[38;5;124;03mb    2    4\u001b[39;00m\n\u001b[1;32m   4310\u001b[0m \u001b[38;5;124;03m\"\"\"\u001b[39;00m\n\u001b[1;32m   4311\u001b[0m \u001b[38;5;28;01mfrom\u001b[39;00m \u001b[38;5;21;01mpandas\u001b[39;00m\u001b[38;5;21;01m.\u001b[39;00m\u001b[38;5;21;01mcore\u001b[39;00m\u001b[38;5;21;01m.\u001b[39;00m\u001b[38;5;21;01mreshape\u001b[39;00m\u001b[38;5;21;01m.\u001b[39;00m\u001b[38;5;21;01mreshape\u001b[39;00m \u001b[38;5;28;01mimport\u001b[39;00m unstack\n\u001b[0;32m-> 4313\u001b[0m \u001b[38;5;28;01mreturn\u001b[39;00m unstack(\u001b[38;5;28mself\u001b[39m, level, fill_value)\n",
      "File \u001b[0;32m~/anaconda3/lib/python3.11/site-packages/pandas/core/reshape/reshape.py:488\u001b[0m, in \u001b[0;36munstack\u001b[0;34m(obj, level, fill_value)\u001b[0m\n\u001b[1;32m    486\u001b[0m \u001b[38;5;28;01mif\u001b[39;00m is_1d_only_ea_dtype(obj\u001b[38;5;241m.\u001b[39mdtype):\n\u001b[1;32m    487\u001b[0m     \u001b[38;5;28;01mreturn\u001b[39;00m _unstack_extension_series(obj, level, fill_value)\n\u001b[0;32m--> 488\u001b[0m unstacker \u001b[38;5;241m=\u001b[39m _Unstacker(\n\u001b[1;32m    489\u001b[0m     obj\u001b[38;5;241m.\u001b[39mindex, level\u001b[38;5;241m=\u001b[39mlevel, constructor\u001b[38;5;241m=\u001b[39mobj\u001b[38;5;241m.\u001b[39m_constructor_expanddim\n\u001b[1;32m    490\u001b[0m )\n\u001b[1;32m    491\u001b[0m \u001b[38;5;28;01mreturn\u001b[39;00m unstacker\u001b[38;5;241m.\u001b[39mget_result(\n\u001b[1;32m    492\u001b[0m     obj\u001b[38;5;241m.\u001b[39m_values, value_columns\u001b[38;5;241m=\u001b[39m\u001b[38;5;28;01mNone\u001b[39;00m, fill_value\u001b[38;5;241m=\u001b[39mfill_value\n\u001b[1;32m    493\u001b[0m )\n",
      "File \u001b[0;32m~/anaconda3/lib/python3.11/site-packages/pandas/core/reshape/reshape.py:136\u001b[0m, in \u001b[0;36m_Unstacker.__init__\u001b[0;34m(self, index, level, constructor)\u001b[0m\n\u001b[1;32m    128\u001b[0m \u001b[38;5;28;01mif\u001b[39;00m num_cells \u001b[38;5;241m>\u001b[39m np\u001b[38;5;241m.\u001b[39miinfo(np\u001b[38;5;241m.\u001b[39mint32)\u001b[38;5;241m.\u001b[39mmax:\n\u001b[1;32m    129\u001b[0m     warnings\u001b[38;5;241m.\u001b[39mwarn(\n\u001b[1;32m    130\u001b[0m         \u001b[38;5;124mf\u001b[39m\u001b[38;5;124m\"\u001b[39m\u001b[38;5;124mThe following operation may generate \u001b[39m\u001b[38;5;132;01m{\u001b[39;00mnum_cells\u001b[38;5;132;01m}\u001b[39;00m\u001b[38;5;124m cells \u001b[39m\u001b[38;5;124m\"\u001b[39m\n\u001b[1;32m    131\u001b[0m         \u001b[38;5;124mf\u001b[39m\u001b[38;5;124m\"\u001b[39m\u001b[38;5;124min the resulting pandas object.\u001b[39m\u001b[38;5;124m\"\u001b[39m,\n\u001b[1;32m    132\u001b[0m         PerformanceWarning,\n\u001b[1;32m    133\u001b[0m         stacklevel\u001b[38;5;241m=\u001b[39mfind_stack_level(),\n\u001b[1;32m    134\u001b[0m     )\n\u001b[0;32m--> 136\u001b[0m \u001b[38;5;28mself\u001b[39m\u001b[38;5;241m.\u001b[39m_make_selectors()\n",
      "File \u001b[0;32m~/anaconda3/lib/python3.11/site-packages/pandas/core/reshape/reshape.py:188\u001b[0m, in \u001b[0;36m_Unstacker._make_selectors\u001b[0;34m(self)\u001b[0m\n\u001b[1;32m    185\u001b[0m mask\u001b[38;5;241m.\u001b[39mput(selector, \u001b[38;5;28;01mTrue\u001b[39;00m)\n\u001b[1;32m    187\u001b[0m \u001b[38;5;28;01mif\u001b[39;00m mask\u001b[38;5;241m.\u001b[39msum() \u001b[38;5;241m<\u001b[39m \u001b[38;5;28mlen\u001b[39m(\u001b[38;5;28mself\u001b[39m\u001b[38;5;241m.\u001b[39mindex):\n\u001b[0;32m--> 188\u001b[0m     \u001b[38;5;28;01mraise\u001b[39;00m \u001b[38;5;167;01mValueError\u001b[39;00m(\u001b[38;5;124m\"\u001b[39m\u001b[38;5;124mIndex contains duplicate entries, cannot reshape\u001b[39m\u001b[38;5;124m\"\u001b[39m)\n\u001b[1;32m    190\u001b[0m \u001b[38;5;28mself\u001b[39m\u001b[38;5;241m.\u001b[39mgroup_index \u001b[38;5;241m=\u001b[39m comp_index\n\u001b[1;32m    191\u001b[0m \u001b[38;5;28mself\u001b[39m\u001b[38;5;241m.\u001b[39mmask \u001b[38;5;241m=\u001b[39m mask\n",
      "\u001b[0;31mValueError\u001b[0m: Index contains duplicate entries, cannot reshape"
     ]
    }
   ],
   "source": [
    "main()"
   ]
  }
 ],
 "metadata": {
  "kernelspec": {
   "display_name": "Python 3 (ipykernel)",
   "language": "python",
   "name": "python3"
  },
  "language_info": {
   "codemirror_mode": {
    "name": "ipython",
    "version": 3
   },
   "file_extension": ".py",
   "mimetype": "text/x-python",
   "name": "python",
   "nbconvert_exporter": "python",
   "pygments_lexer": "ipython3",
   "version": "3.11.5"
  }
 },
 "nbformat": 4,
 "nbformat_minor": 5
}
