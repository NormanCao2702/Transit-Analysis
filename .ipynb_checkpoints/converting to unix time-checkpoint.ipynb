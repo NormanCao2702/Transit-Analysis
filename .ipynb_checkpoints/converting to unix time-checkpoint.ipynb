{
 "cells": [
  {
   "cell_type": "code",
   "execution_count": 38,
   "id": "be6347ae",
   "metadata": {},
   "outputs": [],
   "source": [
    "from datetime import datetime, timedelta, timezone\n",
    "import time"
   ]
  },
  {
   "cell_type": "code",
   "execution_count": 48,
   "id": "763558aa",
   "metadata": {},
   "outputs": [],
   "source": [
    "# Example datetime in Vancouver\n",
    "vancouver_datetime = datetime(2024, 4, 2, 11, 32, 40, tzinfo=ZoneInfo(\"America/Vancouver\"))"
   ]
  },
  {
   "cell_type": "code",
   "execution_count": 49,
   "id": "2dcd92a5",
   "metadata": {},
   "outputs": [
    {
     "name": "stdout",
     "output_type": "stream",
     "text": [
      "1712082760\n"
     ]
    }
   ],
   "source": [
    "# Convert to Unix timestamp\n",
    "unix_timestamp = vancouver_datetime.timestamp()\n",
    "print(int(unix_timestamp))"
   ]
  },
  {
   "cell_type": "code",
   "execution_count": 39,
   "id": "383284ac",
   "metadata": {},
   "outputs": [],
   "source": [
    "def get_current_time():\n",
    "    return int(time.time())"
   ]
  },
  {
   "cell_type": "code",
   "execution_count": 43,
   "id": "1d06ed21",
   "metadata": {},
   "outputs": [
    {
     "name": "stdout",
     "output_type": "stream",
     "text": [
      "1712082760\n"
     ]
    }
   ],
   "source": [
    "current_time = get_current_time()\n",
    "print(current_time)"
   ]
  }
 ],
 "metadata": {
  "kernelspec": {
   "display_name": "Python 3 (ipykernel)",
   "language": "python",
   "name": "python3"
  },
  "language_info": {
   "codemirror_mode": {
    "name": "ipython",
    "version": 3
   },
   "file_extension": ".py",
   "mimetype": "text/x-python",
   "name": "python",
   "nbconvert_exporter": "python",
   "pygments_lexer": "ipython3",
   "version": "3.11.5"
  }
 },
 "nbformat": 4,
 "nbformat_minor": 5
}
