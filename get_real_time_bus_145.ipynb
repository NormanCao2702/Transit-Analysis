{
 "cells": [
  {
   "cell_type": "code",
   "execution_count": 17,
   "id": "3699fd5c",
   "metadata": {},
   "outputs": [],
   "source": [
    "import requests\n",
    "import time"
   ]
  },
  {
   "cell_type": "code",
   "execution_count": 15,
   "id": "d1751662",
   "metadata": {},
   "outputs": [],
   "source": [
    "# Your API key for authorization\n",
    "api_key = 'bf26424bdabada8b6cb6769478a36213bd864f1773e7a3ac5ecfc15ef83830ce'"
   ]
  },
  {
   "cell_type": "code",
   "execution_count": 4,
   "id": "e9e029dd",
   "metadata": {},
   "outputs": [],
   "source": [
    "# Header parameters\n",
    "headers = {\n",
    "    'apiKey': api_key,  # Authorization with API key\n",
    "    'Accept-Language': 'en'  # Optional: Language preference\n",
    "}"
   ]
  },
  {
   "cell_type": "code",
   "execution_count": 5,
   "id": "6863892a",
   "metadata": {},
   "outputs": [],
   "source": [
    "# API endpoint for nearby stops\n",
    "nearby_stops_url= \"https://external.transitapp.com/v3/public/nearby_stops\"\n",
    "# Query parameters\n",
    "params_nearby_stops = {\n",
    "    'lat': 49.25348197787918,  # Latitude\n",
    "    'lon': -122.91818244659417,  # Longitude\n",
    "    'max_distance': 150,  # Maximum radius of search from the request location in meters\n",
    "    'stop_filter': 'Routable',  # Type of stops to return\n",
    "    # Optional: you can add 'pickup_dropoff_filter' parameter here if needed\n",
    "}\n",
    "# Make the GET request\n",
    "response_nearby = requests.get(nearby_stops_url, params=params_nearby_stops, headers=headers)"
   ]
  },
  {
   "cell_type": "code",
   "execution_count": 13,
   "id": "a900e8b6",
   "metadata": {},
   "outputs": [
    {
     "name": "stdout",
     "output_type": "stream",
     "text": [
      "Stop Name: Production Way Station (Bay 2), Global Stop ID: TSL:73569\n",
      "Stop Name: Production Way Station (Bay 1), Global Stop ID: TSL:74401\n",
      "Stop Name: Production Station (Bay 3), Global Stop ID: TSL:73546\n",
      "Stop Name: Production Way-University Station, Global Stop ID: TSL:83853\n",
      "Stop Name: Production Way-University Station, Global Stop ID: TSL:83838\n",
      "Stop Name: Lougheed Hwy / Production Way Westbound, Global Stop ID: TSL:74414\n"
     ]
    }
   ],
   "source": [
    "# Getting Production way bay 1 global stop id\n",
    "production_way_bay_1_stop = None\n",
    "\n",
    "# Check if the request was successful\n",
    "if response_nearby.status_code == 200:\n",
    "    data = response_nearby.json()\n",
    "    \n",
    "    stops = data['stops']\n",
    "\n",
    "    # Loop through each stop in the response and print its global_stop_id\n",
    "    for stop in stops:\n",
    "        print(f\"Stop Name: {stop['stop_name']}, Global Stop ID: {stop['global_stop_id']}\")\n",
    "    \n",
    "    # Desired stop name\n",
    "    stop_name = \"Production Way Station (Bay 1)\"\n",
    "    for stop in stops:\n",
    "        if stop[\"stop_name\"] == stop_name:\n",
    "            production_way_bay_1_stop = stop[\"global_stop_id\"]\n",
    "            break\n",
    "else:\n",
    "    print(f\"Failed to fetch data: {response.status_code} - {response.text}\")\n"
   ]
  },
  {
   "cell_type": "code",
   "execution_count": 14,
   "id": "c0cc35b3",
   "metadata": {},
   "outputs": [
    {
     "name": "stdout",
     "output_type": "stream",
     "text": [
      "TSL:74401\n"
     ]
    }
   ],
   "source": [
    "print(production_way_bay_1_stop)"
   ]
  },
  {
   "cell_type": "code",
   "execution_count": 21,
   "id": "1cef91d4",
   "metadata": {},
   "outputs": [],
   "source": [
    "current_time = int(time.time())\n",
    "\n",
    "stop_departures_url = \"https://external.transitapp.com/v3/public/stop_departures\"\n",
    "\n",
    "# Query parameters\n",
    "params_stop_departures = {\n",
    "    'global_stop_id': production_way_bay_1_stop,\n",
    "    'time': current_time,  # You can adjust this according to your needs\n",
    "    'should_update_realtime': True,\n",
    "    'remove_cancelled': True  # Set to True if you want to remove cancelled schedule items\n",
    "}\n",
    "\n",
    "# Make the GET request\n",
    "response_stop_depart = requests.get(stop_departures_url, params=params_stop_departures, headers=headers)"
   ]
  },
  {
   "cell_type": "code",
   "execution_count": 24,
   "id": "e4e348a2",
   "metadata": {},
   "outputs": [
    {
     "name": "stdout",
     "output_type": "stream",
     "text": [
      "RT Trip ID: 13678548, Departure Time: 1712006760, Scheduled Departure Time: 1712006760,Is cancelled: False\n",
      "RT Trip ID: 13678549, Departure Time: 1712007360, Scheduled Departure Time: 1712007360,Is cancelled: False\n",
      "RT Trip ID: 13678550, Departure Time: 1712007960, Scheduled Departure Time: 1712007960,Is cancelled: False\n"
     ]
    }
   ],
   "source": [
    "# Check if the request was successful\n",
    "if response_stop_depart.status_code == 200:\n",
    "    data = response_stop_depart.json()\n",
    "    \n",
    "    # Extracting rt_trip_id, departure_time, and scheduled_departure_time\n",
    "    for route_departure in data['route_departures']:\n",
    "        for itinerary in route_departure['itineraries']:\n",
    "            for schedule_item in itinerary['schedule_items']:\n",
    "                rt_trip_id = schedule_item['rt_trip_id']\n",
    "                departure_time = schedule_item['departure_time']\n",
    "                scheduled_departure_time = schedule_item['scheduled_departure_time']\n",
    "                is_cancelled = schedule_item['is_cancelled']\n",
    "                print(f\"RT Trip ID: {rt_trip_id}, Departure Time: {departure_time}, Scheduled Departure Time: {scheduled_departure_time},Is cancelled: {is_cancelled}\")\n",
    "\n",
    "    \n",
    "else:\n",
    "    print(f\"Failed to fetch data: {response.status_code} - {response.text}\")"
   ]
  },
  {
   "cell_type": "code",
   "execution_count": null,
   "id": "f50ba32a",
   "metadata": {},
   "outputs": [],
   "source": []
  },
  {
   "cell_type": "code",
   "execution_count": null,
   "id": "ed274bb2",
   "metadata": {},
   "outputs": [],
   "source": []
  },
  {
   "cell_type": "code",
   "execution_count": null,
   "id": "e673541f",
   "metadata": {},
   "outputs": [],
   "source": []
  },
  {
   "cell_type": "code",
   "execution_count": null,
   "id": "0457e7d5",
   "metadata": {},
   "outputs": [],
   "source": []
  }
 ],
 "metadata": {
  "kernelspec": {
   "display_name": "Python 3 (ipykernel)",
   "language": "python",
   "name": "python3"
  },
  "language_info": {
   "codemirror_mode": {
    "name": "ipython",
    "version": 3
   },
   "file_extension": ".py",
   "mimetype": "text/x-python",
   "name": "python",
   "nbconvert_exporter": "python",
   "pygments_lexer": "ipython3",
   "version": "3.11.5"
  }
 },
 "nbformat": 4,
 "nbformat_minor": 5
}
