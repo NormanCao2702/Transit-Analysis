{
 "cells": [
  {
   "cell_type": "code",
   "execution_count": 1,
   "id": "68c456b0",
   "metadata": {},
   "outputs": [],
   "source": [
    "import pandas as pd"
   ]
  },
  {
   "cell_type": "code",
   "execution_count": 2,
   "id": "6b418fd4",
   "metadata": {},
   "outputs": [],
   "source": [
    "def read_gtfs_files():\n",
    "    \"\"\"\n",
    "    Reads necessary GTFS static files and returns them as DataFrames.\n",
    "    \"\"\"\n",
    "    routes_df = pd.read_csv('GTFS-Static-Data/routes.txt')\n",
    "    trips_df = pd.read_csv('GTFS-Static-Data/trips.txt')\n",
    "    stops_df = pd.read_csv('GTFS-Static-Data/stops.txt')\n",
    "    stop_times_df = pd.read_csv('GTFS-Static-Data/stop_times.txt')\n",
    "    calendar_df = pd.read_csv('GTFS-Static-Data/calendar.txt')\n",
    "    return routes_df, trips_df, stops_df, stop_times_df, calendar_df"
   ]
  },
  {
   "cell_type": "code",
   "execution_count": 5,
   "id": "e3822b4b",
   "metadata": {},
   "outputs": [],
   "source": [
    "def filter_by_route(routes_df, route_short_name='145'):\n",
    "    \"\"\"\n",
    "    Filters routes by short name and returns the route ID.\n",
    "    \"\"\"\n",
    "    bus_route_id = routes_df[routes_df['route_short_name'] == route_short_name]['route_id'].iloc[0]\n",
    "    return bus_route_id"
   ]
  },
  {
   "cell_type": "code",
   "execution_count": 19,
   "id": "21703b5a",
   "metadata": {},
   "outputs": [],
   "source": [
    "def filter_by_stop(stops_df, stop_name):\n",
    "    sfu_stop_id = stops_df[stops_df['stop_name'].str.contains(stop_name, case=False, na=False)]['stop_id'].iloc[0]\n",
    "    return sfu_stop_id"
   ]
  },
  {
   "cell_type": "code",
   "execution_count": 24,
   "id": "c020de54",
   "metadata": {},
   "outputs": [],
   "source": [
    "def filter_trips_to_SFU_by_route(trips_df, route_id, direction_id):\n",
    "    \"\"\"\n",
    "    Filters trips by route ID.\n",
    "    direction_id = 0 -> Production Way to SFU, direction_id = 1 -> SFU to Production Way\n",
    "    \"\"\"\n",
    "    return trips_df[(trips_df['route_id'] == route_id) &\n",
    "                   (direction_id == direction_id)]"
   ]
  },
  {
   "cell_type": "code",
   "execution_count": 28,
   "id": "270fe14c",
   "metadata": {},
   "outputs": [],
   "source": [
    "def filter_stop_times_by_trip_and_stop(stop_times_df, trip_to_SFU_df, stop_id):\n",
    "    \"\"\"\n",
    "    Filters stop times by trip ID and stop ID.\n",
    "    \"\"\"\n",
    "    merged_df = pd.merge(stop_times_df, trip_to_SFU_df, on='trip_id')\n",
    "    filtered_df = merged_df[merged_df['stop_id']==stop_id]\n",
    "    return filtered_df"
   ]
  },
  {
   "cell_type": "code",
   "execution_count": 41,
   "id": "4578ad25",
   "metadata": {},
   "outputs": [],
   "source": [
    "def get_trips_by_day(df,calendar_df, day_name):\n",
    "    \"\"\"\n",
    "    Filter trips by day.\n",
    "    \n",
    "    :param df: DataFrame containing the trip data\n",
    "    :param day_name: Name of the day to filter by (e.g., 'Monday')\n",
    "    :return: DataFrame with trips that run on the specified day\n",
    "    \"\"\"\n",
    "    trip_at_SFU_service = pd.merge(df, calendar_df, on='service_id')\n",
    "    filtered_trip = trip_at_SFU_service[trip_at_SFU_service[day_name]==1]\n",
    "    return filtered_trip"
   ]
  },
  {
   "cell_type": "code",
   "execution_count": 4,
   "id": "39344f75",
   "metadata": {},
   "outputs": [],
   "source": [
    "def calculate_time_diff_and_period(relevant_stop_times):\n",
    "    \"\"\"\n",
    "    Calculates time differences between consecutive buses and assigns period based on arrival time.\n",
    "    This function is a placeholder to illustrate where you'd calculate 'Time Diff' and 'Period'.\n",
    "    \"\"\"\n",
    "    # Example of period assignment and time diff calculation would go here.\n",
    "    # This part of the code would require significant development to accurately calculate\n",
    "    # and assign periods and time differences based on your criteria.\n",
    "    pass"
   ]
  },
  {
   "cell_type": "code",
   "execution_count": 44,
   "id": "e2cdf3ad",
   "metadata": {},
   "outputs": [],
   "source": [
    "def main():\n",
    "    routes_df, trips_df, stops_df, stop_times_df, calendar_df = read_gtfs_files()\n",
    "    \n",
    "    # get bus 145 route_id and stop sfu transit bay 2\n",
    "    route_id = filter_by_route(routes_df, '145')\n",
    "    sfu_stop_id = filter_by_stop(stops_df,'SFU Transportation Centre @ Bay 2')\n",
    "    \n",
    "    trips_to_SFU = filter_trips_to_SFU_by_route(trips_df, route_id, 0)\n",
    "    trips_to_SFU_arrival_time = filter_stop_times_by_trip_and_stop(stop_times_df, trips_to_SFU, sfu_stop_id)\n",
    "    \n",
    "    day = 'monday'\n",
    "    trips_to_SFU_arrival_time_each_day = get_trips_by_day(trips_to_SFU_arrival_time,calendar_df, day)\n",
    "    print(trips_to_SFU_arrival_time_each_day)\n",
    "#     print(trips_to_SFU_arrival_time)\n",
    "#     print(sfu_stop_id)\n",
    "    # You would need to iterate over trip IDs and possibly filter by day using calendar information\n",
    "    # Here, you'd call filter_stop_times_by_trip_and_stop for each trip ID and SFU stop ID, then calculate time diffs and periods.\n",
    "    \n",
    "    # This main function setup is quite simplified and needs expansion to cover your requirements."
   ]
  },
  {
   "cell_type": "code",
   "execution_count": 45,
   "id": "8a46ab73",
   "metadata": {},
   "outputs": [
    {
     "name": "stdout",
     "output_type": "stream",
     "text": [
      "      trip_id arrival_time departure_time  stop_id  stop_sequence  \\\n",
      "0    13678472      6:08:13        6:08:13     1873              5   \n",
      "1    13678473      6:30:13        6:30:13     1873              5   \n",
      "2    13678474      6:45:13        6:45:13     1873              5   \n",
      "3    13678475     18:16:04       18:16:04     1873              5   \n",
      "4    13678476     18:28:04       18:28:04     1873              5   \n",
      "..        ...          ...            ...      ...            ...   \n",
      "111  13678583     25:26:13       25:26:13     1873              5   \n",
      "112  13678584      8:05:56        8:05:56     1873              5   \n",
      "113  13678585      8:47:56        8:47:56     1873              5   \n",
      "114  13678586      9:30:56        9:30:56     1873              5   \n",
      "115  13719923     19:20:04       19:20:04     1873              5   \n",
      "\n",
      "     stop_headsign  pickup_type  drop_off_type  shape_dist_traveled route_id  \\\n",
      "0              NaN            0              0               6.4304     6658   \n",
      "1              NaN            0              0               6.4304     6658   \n",
      "2              NaN            0              0               6.4304     6658   \n",
      "3              NaN            0              0               6.4304     6658   \n",
      "4              NaN            0              0               6.4304     6658   \n",
      "..             ...          ...            ...                  ...      ...   \n",
      "111            NaN            0              0               6.4304     6658   \n",
      "112            NaN            0              0               6.4304     6658   \n",
      "113            NaN            0              0               6.4304     6658   \n",
      "114            NaN            0              0               6.4304     6658   \n",
      "115            NaN            0              0               6.4304     6658   \n",
      "\n",
      "     ...  bikes_allowed monday  tuesday  wednesday  thursday  friday  \\\n",
      "0    ...              1      1        1          1         1       1   \n",
      "1    ...              1      1        1          1         1       1   \n",
      "2    ...              1      1        1          1         1       1   \n",
      "3    ...              1      1        1          1         1       1   \n",
      "4    ...              1      1        1          1         1       1   \n",
      "..   ...            ...    ...      ...        ...       ...     ...   \n",
      "111  ...              1      1        1          1         1       1   \n",
      "112  ...              1      1        1          1         1       1   \n",
      "113  ...              1      1        1          1         1       1   \n",
      "114  ...              1      1        1          1         1       1   \n",
      "115  ...              1      1        1          1         1       1   \n",
      "\n",
      "     saturday  sunday  start_date  end_date  \n",
      "0           0       0    20240101  20240414  \n",
      "1           0       0    20240101  20240414  \n",
      "2           0       0    20240101  20240414  \n",
      "3           0       0    20240101  20240414  \n",
      "4           0       0    20240101  20240414  \n",
      "..        ...     ...         ...       ...  \n",
      "111         0       0    20240101  20240414  \n",
      "112         0       0    20240101  20240414  \n",
      "113         0       0    20240101  20240414  \n",
      "114         0       0    20240101  20240414  \n",
      "115         0       0    20240101  20240414  \n",
      "\n",
      "[116 rows x 27 columns]\n"
     ]
    }
   ],
   "source": [
    "main()"
   ]
  }
 ],
 "metadata": {
  "kernelspec": {
   "display_name": "Python 3 (ipykernel)",
   "language": "python",
   "name": "python3"
  },
  "language_info": {
   "codemirror_mode": {
    "name": "ipython",
    "version": 3
   },
   "file_extension": ".py",
   "mimetype": "text/x-python",
   "name": "python",
   "nbconvert_exporter": "python",
   "pygments_lexer": "ipython3",
   "version": "3.11.5"
  }
 },
 "nbformat": 4,
 "nbformat_minor": 5
}
