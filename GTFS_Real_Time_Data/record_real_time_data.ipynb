{
 "cells": [
  {
   "cell_type": "code",
   "execution_count": null,
   "id": "b798a95a",
   "metadata": {},
   "outputs": [],
   "source": [
    "# Libraries\n",
    "import requests\n",
    "from datetime import datetime\n",
    "import json\n",
    "import threading\n",
    "import time\n",
    "from multiprocessing import Lock"
   ]
  },
  {
   "cell_type": "code",
   "execution_count": null,
   "id": "a64e7802",
   "metadata": {},
   "outputs": [],
   "source": [
    "# Contant Variables\n",
    "# API Keys\n",
    "TESTING_API_KEY = '8RNVMZ3pgYCOlTMIWqRy'\n",
    "API_KEYS = [TESTING_API_KEY, TESTING_API_KEY, TESTING_API_KEY]\n",
    "\n",
    "# URLs\n",
    "TRANSLINK_BUSES_URL = 'https://api.translink.ca/rttiapi/v1/buses'\n",
    "\n",
    "# Bus Data\n",
    "ROUTE_NUMBERS = ['R5', '144', '145']\n",
    "\n",
    "# Directories\n",
    "REAL_TIME_DATA_DIRECTORY = 'real_time_data/'"
   ]
  },
  {
   "cell_type": "code",
   "execution_count": null,
   "id": "ecfc1a30",
   "metadata": {},
   "outputs": [],
   "source": [
    "# Global Variables\n",
    "lock = Lock()"
   ]
  },
  {
   "cell_type": "code",
   "execution_count": null,
   "id": "8a6b5f7b",
   "metadata": {},
   "outputs": [],
   "source": [
    "# Print the message in multithreading\n",
    "def printMessageInMultithreading(message):\n",
    "    lock.acquire()\n",
    "    try:\n",
    "        print(message)\n",
    "    finally:\n",
    "        lock.release()"
   ]
  },
  {
   "cell_type": "code",
   "execution_count": null,
   "id": "acaae685",
   "metadata": {},
   "outputs": [],
   "source": [
    "# Get the real time data and write to file\n",
    "def getRealTimeDataAndWrite(index):\n",
    "    # Get the current time\n",
    "    current_time = datetime.now().strftime(\"%Y%m%d_%H%M%S\")\n",
    "    \n",
    "    # Generate the file name\n",
    "    file_name = ROUTE_NUMBERS[index] + '_' + current_time + '.json'\n",
    "    file_location = REAL_TIME_DATA_DIRECTORY + file_name\n",
    "    printMessageInMultithreading(file_name)\n",
    "    \n",
    "    # HTTP GET parameters\n",
    "    params = {\n",
    "        'apikey': API_KEYS[index],\n",
    "        'routeNo': ROUTE_NUMBERS[index]\n",
    "    }\n",
    "\n",
    "    # HTTP GET headers\n",
    "    headers = {\n",
    "        'accept': 'application/JSON'\n",
    "    }\n",
    "\n",
    "    # Send a HTTP GET request\n",
    "    http_get_data = requests.get(TRANSLINK_BUSES_URL, params=params, headers=headers)\n",
    "    \n",
    "    # Write to file\n",
    "    with open(file_location, 'w') as f:\n",
    "        json.dump(http_get_data.json(), f, indent=4)"
   ]
  },
  {
   "cell_type": "code",
   "execution_count": null,
   "id": "a0937f60",
   "metadata": {},
   "outputs": [],
   "source": [
    "# Get all the real time data\n",
    "def getAllRealTimeData():\n",
    "    for idx, _ in enumerate(ROUTE_NUMBERS):\n",
    "        threading.Thread(target=getRealTimeDataAndWrite, args=(idx, )).start()"
   ]
  },
  {
   "cell_type": "code",
   "execution_count": null,
   "id": "31e7b3b2",
   "metadata": {},
   "outputs": [],
   "source": [
    "# Run every minute\n",
    "def runEveryMinute():\n",
    "    while True:\n",
    "        getAllRealTimeData()\n",
    "        time.sleep(60)"
   ]
  },
  {
   "cell_type": "code",
   "execution_count": null,
   "id": "b7dc09ae",
   "metadata": {},
   "outputs": [],
   "source": [
    "runEveryMinute()"
   ]
  }
 ],
 "metadata": {
  "kernelspec": {
   "display_name": "Python 3 (ipykernel)",
   "language": "python",
   "name": "python3"
  },
  "language_info": {
   "codemirror_mode": {
    "name": "ipython",
    "version": 3
   },
   "file_extension": ".py",
   "mimetype": "text/x-python",
   "name": "python",
   "nbconvert_exporter": "python",
   "pygments_lexer": "ipython3",
   "version": "3.11.4"
  }
 },
 "nbformat": 4,
 "nbformat_minor": 5
}
