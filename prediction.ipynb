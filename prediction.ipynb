{
 "cells": [
  {
   "cell_type": "code",
   "execution_count": 2,
   "id": "e2ef9a48",
   "metadata": {},
   "outputs": [],
   "source": [
    "from sklearn.model_selection import train_test_split\n",
    "from sklearn.preprocessing import OneHotEncoder\n",
    "from sklearn.ensemble import RandomForestClassifier\n",
    "from sklearn.naive_bayes import GaussianNB\n",
    "from sklearn.neural_network import MLPClassifier\n",
    "from sklearn.metrics import accuracy_score, classification_report\n",
    "import pandas as pd"
   ]
  },
  {
   "cell_type": "code",
   "execution_count": 16,
   "id": "371c6c8f",
   "metadata": {},
   "outputs": [
    {
     "name": "stdout",
     "output_type": "stream",
     "text": [
      "     Unnamed: 0   trip_id arrival_time  time_diff  minutes_past_midnight  \\\n",
      "0             0  13678472      6:08:13   0.000000             368.216667   \n",
      "1             1  13678473      6:30:13  22.000000             390.216667   \n",
      "2             2  13678474      6:45:13  15.000000             405.216667   \n",
      "3             3  13678551      6:59:56  14.716667             419.933333   \n",
      "4             4  13678514      7:10:56  11.000000             430.933333   \n",
      "..          ...       ...          ...        ...                    ...   \n",
      "111         111  13678581     23:26:13  30.000000            1406.216667   \n",
      "112         112  13678485     23:56:13  30.000000            1436.216667   \n",
      "113         113  13678582     24:26:13  30.000000              26.216667   \n",
      "114         114  13678486     24:56:13  30.000000              56.216667   \n",
      "115         115  13678583     25:26:13  30.000000              86.216667   \n",
      "\n",
      "        period  \n",
      "0      Morning  \n",
      "1      Morning  \n",
      "2      Morning  \n",
      "3      Morning  \n",
      "4      Morning  \n",
      "..         ...  \n",
      "111      Night  \n",
      "112      Night  \n",
      "113  Overnight  \n",
      "114  Overnight  \n",
      "115  Overnight  \n",
      "\n",
      "[116 rows x 6 columns]\n"
     ]
    }
   ],
   "source": [
    "bus_145_data = pd.read_csv(\"bus_145_weekday_clustering.csv\")\n",
    "print(bus_145_data)"
   ]
  },
  {
   "cell_type": "code",
   "execution_count": 10,
   "id": "543279c3",
   "metadata": {},
   "outputs": [
    {
     "name": "stderr",
     "output_type": "stream",
     "text": [
      "/Users/tran/anaconda3/lib/python3.11/site-packages/sklearn/preprocessing/_encoders.py:972: FutureWarning: `sparse` was renamed to `sparse_output` in version 1.2 and will be removed in 1.4. `sparse_output` is ignored unless you leave `sparse` to its default value.\n",
      "  warnings.warn(\n"
     ]
    }
   ],
   "source": [
    "# One-hot encode the 'period' column\n",
    "encoder = OneHotEncoder(sparse=False)\n",
    "period_encoded = encoder.fit_transform(bus_145_data[['period']])"
   ]
  },
  {
   "cell_type": "code",
   "execution_count": 20,
   "id": "3f1a714e",
   "metadata": {},
   "outputs": [],
   "source": [
    "# Define the service frequency categories based on time_diff\n",
    "def categorize_time_diff(time_diff):\n",
    "    if time_diff <= 25:\n",
    "        return 'High'  # High frequency\n",
    "    elif time_diff <= 15:\n",
    "        return 'Medium'  # Medium frequency\n",
    "    else:\n",
    "        return 'Low'  # Low frequency"
   ]
  },
  {
   "cell_type": "code",
   "execution_count": 12,
   "id": "47480078",
   "metadata": {},
   "outputs": [
    {
     "name": "stdout",
     "output_type": "stream",
     "text": [
      "     period_0  period_1  period_2  period_3  period_4\n",
      "0         0.0       0.0       1.0       0.0       0.0\n",
      "1         0.0       0.0       1.0       0.0       0.0\n",
      "2         0.0       0.0       1.0       0.0       0.0\n",
      "3         0.0       0.0       1.0       0.0       0.0\n",
      "4         0.0       0.0       1.0       0.0       0.0\n",
      "..        ...       ...       ...       ...       ...\n",
      "111       0.0       0.0       0.0       1.0       0.0\n",
      "112       0.0       0.0       0.0       1.0       0.0\n",
      "113       0.0       0.0       0.0       0.0       1.0\n",
      "114       0.0       0.0       0.0       0.0       1.0\n",
      "115       0.0       0.0       0.0       0.0       1.0\n",
      "\n",
      "[116 rows x 5 columns]\n"
     ]
    }
   ],
   "source": [
    "# Create a DataFrame from the encoded period features, naming columns for clarity\n",
    "period_encoded_df = pd.DataFrame(\n",
    "    period_encoded, \n",
    "    columns=[\"period_\" + str(int(i)) for i in range(period_encoded.shape[1])]\n",
    ")\n",
    "print(period_encoded_df)"
   ]
  },
  {
   "cell_type": "code",
   "execution_count": 17,
   "id": "9dc161c7",
   "metadata": {},
   "outputs": [
    {
     "name": "stdout",
     "output_type": "stream",
     "text": [
      "     Unnamed: 0   trip_id arrival_time  time_diff  minutes_past_midnight  \\\n",
      "0             0  13678472      6:08:13   0.000000             368.216667   \n",
      "1             1  13678473      6:30:13  22.000000             390.216667   \n",
      "2             2  13678474      6:45:13  15.000000             405.216667   \n",
      "3             3  13678551      6:59:56  14.716667             419.933333   \n",
      "4             4  13678514      7:10:56  11.000000             430.933333   \n",
      "..          ...       ...          ...        ...                    ...   \n",
      "111         111  13678581     23:26:13  30.000000            1406.216667   \n",
      "112         112  13678485     23:56:13  30.000000            1436.216667   \n",
      "113         113  13678582     24:26:13  30.000000              26.216667   \n",
      "114         114  13678486     24:56:13  30.000000              56.216667   \n",
      "115         115  13678583     25:26:13  30.000000              86.216667   \n",
      "\n",
      "        period  period_0  period_1  period_2  period_3  period_4  \n",
      "0      Morning       0.0       0.0       1.0       0.0       0.0  \n",
      "1      Morning       0.0       0.0       1.0       0.0       0.0  \n",
      "2      Morning       0.0       0.0       1.0       0.0       0.0  \n",
      "3      Morning       0.0       0.0       1.0       0.0       0.0  \n",
      "4      Morning       0.0       0.0       1.0       0.0       0.0  \n",
      "..         ...       ...       ...       ...       ...       ...  \n",
      "111      Night       0.0       0.0       0.0       1.0       0.0  \n",
      "112      Night       0.0       0.0       0.0       1.0       0.0  \n",
      "113  Overnight       0.0       0.0       0.0       0.0       1.0  \n",
      "114  Overnight       0.0       0.0       0.0       0.0       1.0  \n",
      "115  Overnight       0.0       0.0       0.0       0.0       1.0  \n",
      "\n",
      "[116 rows x 11 columns]\n"
     ]
    }
   ],
   "source": [
    "# Concatenate the new one-hot encoded columns to the original dataframe\n",
    "bus_145_data_encoded = pd.concat([bus_145_data, period_encoded_df], axis=1)\n",
    "print(bus_145_data_encoded)"
   ]
  },
  {
   "cell_type": "code",
   "execution_count": 18,
   "id": "ed34ebcf",
   "metadata": {},
   "outputs": [
    {
     "data": {
      "text/html": [
       "<div>\n",
       "<style scoped>\n",
       "    .dataframe tbody tr th:only-of-type {\n",
       "        vertical-align: middle;\n",
       "    }\n",
       "\n",
       "    .dataframe tbody tr th {\n",
       "        vertical-align: top;\n",
       "    }\n",
       "\n",
       "    .dataframe thead th {\n",
       "        text-align: right;\n",
       "    }\n",
       "</style>\n",
       "<table border=\"1\" class=\"dataframe\">\n",
       "  <thead>\n",
       "    <tr style=\"text-align: right;\">\n",
       "      <th></th>\n",
       "      <th>time_diff</th>\n",
       "      <th>minutes_past_midnight</th>\n",
       "      <th>period_0</th>\n",
       "      <th>period_1</th>\n",
       "      <th>period_2</th>\n",
       "      <th>period_3</th>\n",
       "      <th>period_4</th>\n",
       "    </tr>\n",
       "  </thead>\n",
       "  <tbody>\n",
       "    <tr>\n",
       "      <th>0</th>\n",
       "      <td>0.000000</td>\n",
       "      <td>368.216667</td>\n",
       "      <td>0.0</td>\n",
       "      <td>0.0</td>\n",
       "      <td>1.0</td>\n",
       "      <td>0.0</td>\n",
       "      <td>0.0</td>\n",
       "    </tr>\n",
       "    <tr>\n",
       "      <th>1</th>\n",
       "      <td>22.000000</td>\n",
       "      <td>390.216667</td>\n",
       "      <td>0.0</td>\n",
       "      <td>0.0</td>\n",
       "      <td>1.0</td>\n",
       "      <td>0.0</td>\n",
       "      <td>0.0</td>\n",
       "    </tr>\n",
       "    <tr>\n",
       "      <th>2</th>\n",
       "      <td>15.000000</td>\n",
       "      <td>405.216667</td>\n",
       "      <td>0.0</td>\n",
       "      <td>0.0</td>\n",
       "      <td>1.0</td>\n",
       "      <td>0.0</td>\n",
       "      <td>0.0</td>\n",
       "    </tr>\n",
       "    <tr>\n",
       "      <th>3</th>\n",
       "      <td>14.716667</td>\n",
       "      <td>419.933333</td>\n",
       "      <td>0.0</td>\n",
       "      <td>0.0</td>\n",
       "      <td>1.0</td>\n",
       "      <td>0.0</td>\n",
       "      <td>0.0</td>\n",
       "    </tr>\n",
       "    <tr>\n",
       "      <th>4</th>\n",
       "      <td>11.000000</td>\n",
       "      <td>430.933333</td>\n",
       "      <td>0.0</td>\n",
       "      <td>0.0</td>\n",
       "      <td>1.0</td>\n",
       "      <td>0.0</td>\n",
       "      <td>0.0</td>\n",
       "    </tr>\n",
       "  </tbody>\n",
       "</table>\n",
       "</div>"
      ],
      "text/plain": [
       "   time_diff  minutes_past_midnight  period_0  period_1  period_2  period_3  \\\n",
       "0   0.000000             368.216667       0.0       0.0       1.0       0.0   \n",
       "1  22.000000             390.216667       0.0       0.0       1.0       0.0   \n",
       "2  15.000000             405.216667       0.0       0.0       1.0       0.0   \n",
       "3  14.716667             419.933333       0.0       0.0       1.0       0.0   \n",
       "4  11.000000             430.933333       0.0       0.0       1.0       0.0   \n",
       "\n",
       "   period_4  \n",
       "0       0.0  \n",
       "1       0.0  \n",
       "2       0.0  \n",
       "3       0.0  \n",
       "4       0.0  "
      ]
     },
     "execution_count": 18,
     "metadata": {},
     "output_type": "execute_result"
    }
   ],
   "source": [
    "# Drop the original 'period' column and other columns that won't be used in training\n",
    "bus_145_data_encoded.drop(columns=['Unnamed: 0', 'trip_id', 'arrival_time', 'period'], inplace=True)\n",
    "# Check the processed dataframe\n",
    "bus_145_data_encoded.head()"
   ]
  },
  {
   "cell_type": "code",
   "execution_count": 21,
   "id": "ce1b9f2a",
   "metadata": {},
   "outputs": [
    {
     "data": {
      "text/plain": [
       "(1.0, 0.9583333333333334, 0.9583333333333334)"
      ]
     },
     "execution_count": 21,
     "metadata": {},
     "output_type": "execute_result"
    }
   ],
   "source": [
    "# Apply the categorization function to the 'time_diff' column\n",
    "bus_145_data_encoded['frequency'] = bus_145_data_encoded['time_diff'].apply(categorize_time_diff)\n",
    "\n",
    "# Split the data into features (X) and target labels (y)\n",
    "X = bus_145_data_encoded.drop('frequency', axis=1)\n",
    "y = bus_145_data_encoded['frequency']\n",
    "\n",
    "# Split the data into training and testing sets\n",
    "X_train, X_test, y_train, y_test = train_test_split(X, y, test_size=0.2, random_state=42)\n",
    "\n",
    "# Initialize the machine learning models\n",
    "rf_classifier = RandomForestClassifier(random_state=42)\n",
    "nb_classifier = GaussianNB()\n",
    "mlp_classifier = MLPClassifier(random_state=42, max_iter=300)\n",
    "\n",
    "# Train the RandomForestClassifier\n",
    "rf_classifier.fit(X_train, y_train)\n",
    "y_pred_rf = rf_classifier.predict(X_test)\n",
    "rf_accuracy = accuracy_score(y_test, y_pred_rf)\n",
    "\n",
    "# Train the GaussianNB\n",
    "nb_classifier.fit(X_train, y_train)\n",
    "y_pred_nb = nb_classifier.predict(X_test)\n",
    "nb_accuracy = accuracy_score(y_test, y_pred_nb)\n",
    "\n",
    "# Train the MLPClassifier\n",
    "mlp_classifier.fit(X_train, y_train)\n",
    "y_pred_mlp = mlp_classifier.predict(X_test)\n",
    "mlp_accuracy = accuracy_score(y_test, y_pred_mlp)\n",
    "\n",
    "# Print accuracy for each model\n",
    "(rf_accuracy, nb_accuracy, mlp_accuracy)"
   ]
  }
 ],
 "metadata": {
  "kernelspec": {
   "display_name": "Python 3 (ipykernel)",
   "language": "python",
   "name": "python3"
  },
  "language_info": {
   "codemirror_mode": {
    "name": "ipython",
    "version": 3
   },
   "file_extension": ".py",
   "mimetype": "text/x-python",
   "name": "python",
   "nbconvert_exporter": "python",
   "pygments_lexer": "ipython3",
   "version": "3.11.5"
  }
 },
 "nbformat": 4,
 "nbformat_minor": 5
}
